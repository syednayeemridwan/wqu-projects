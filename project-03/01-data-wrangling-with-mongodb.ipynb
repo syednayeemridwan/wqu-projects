{
 "cells": [
  {
   "cell_type": "markdown",
   "metadata": {},
   "source": [
    "<font size=\"+3\"><strong>3.1. Wrangling Data with MongoDB 🇰🇪</strong></font>"
   ]
  },
  {
   "cell_type": "markdown",
   "metadata": {},
   "source": [
    "# Import Necessary Packages"
   ]
  },
  {
   "cell_type": "code",
   "execution_count": 1,
   "metadata": {},
   "outputs": [],
   "source": [
    "# from pprint import PrettyPrinter\n",
    "\n",
    "# import pandas as pd\n",
    "# from IPython.display import VimeoVideo\n",
    "# from pymongo import MongoClient"
   ]
  },
  {
   "cell_type": "code",
   "execution_count": 2,
   "metadata": {},
   "outputs": [],
   "source": [
    "# pp = PrettyPrinter(indent = 2)"
   ]
  },
  {
   "cell_type": "markdown",
   "metadata": {},
   "source": [
    "# Connect with MongoDB"
   ]
  },
  {
   "cell_type": "code",
   "execution_count": 3,
   "metadata": {},
   "outputs": [],
   "source": [
    "# client = MongoClient(host=\"localhost\", port = 27017)"
   ]
  },
  {
   "cell_type": "code",
   "execution_count": 4,
   "metadata": {},
   "outputs": [],
   "source": [
    "# from sys import getsizeof # in bytes\n",
    "\n",
    "# my_list = [0,1,2,3,4]\n",
    "# my_range = range(0,5) # Iterator\n",
    "# print(my_range)\n",
    "# print(getsizeof(my_range))\n",
    "# print(getsizeof(my_list))"
   ]
  },
  {
   "cell_type": "markdown",
   "metadata": {},
   "source": [
    "# See List of Databases"
   ]
  },
  {
   "cell_type": "code",
   "execution_count": 5,
   "metadata": {},
   "outputs": [],
   "source": [
    "# print(client.list_databases())\n",
    "# print(list(client.list_databases()))\n",
    "\n",
    "# pp.pprint(list(client.list_databases()))\n"
   ]
  },
  {
   "cell_type": "markdown",
   "metadata": {},
   "source": [
    "# Access a Specific Database"
   ]
  },
  {
   "cell_type": "code",
   "execution_count": 6,
   "metadata": {},
   "outputs": [],
   "source": [
    "# db = client[\"air-quality\"]"
   ]
  },
  {
   "cell_type": "markdown",
   "metadata": {},
   "source": [
    "# See Collections (Tables) inside Database as list"
   ]
  },
  {
   "cell_type": "code",
   "execution_count": 7,
   "metadata": {},
   "outputs": [],
   "source": [
    "# # list(db.list_collections())[0]\n",
    "# for c in db.list_collections():\n",
    "#     print(c[\"name\"])\n"
   ]
  },
  {
   "cell_type": "markdown",
   "metadata": {},
   "source": [
    "# Access specific Collection (Table) from Database"
   ]
  },
  {
   "cell_type": "code",
   "execution_count": 8,
   "metadata": {},
   "outputs": [],
   "source": [
    "# nairobi = db[\"nairobi\"]"
   ]
  },
  {
   "cell_type": "markdown",
   "metadata": {},
   "source": [
    "# See total number of Documents (Records) inside Collection (Table)"
   ]
  },
  {
   "cell_type": "code",
   "execution_count": 9,
   "metadata": {},
   "outputs": [],
   "source": [
    "# nairobi.count_documents({})"
   ]
  },
  {
   "cell_type": "markdown",
   "metadata": {},
   "source": [
    "# Select one Entry from the Collection (Table)"
   ]
  },
  {
   "cell_type": "markdown",
   "metadata": {},
   "source": [
    "- One entry = one document "
   ]
  },
  {
   "cell_type": "code",
   "execution_count": 10,
   "metadata": {},
   "outputs": [],
   "source": [
    "# result = nairobi.find_one({})\n",
    "# pp.pprint(result)"
   ]
  },
  {
   "cell_type": "markdown",
   "metadata": {},
   "source": [
    "# Show Distinct values for a key among all documents"
   ]
  },
  {
   "cell_type": "code",
   "execution_count": 11,
   "metadata": {},
   "outputs": [],
   "source": [
    "# nairobi.distinct(\"metadata.site\")"
   ]
  },
  {
   "cell_type": "markdown",
   "metadata": {},
   "source": [
    "# Count Documents (Records) Where the Attribute (Column) is of specific value "
   ]
  },
  {
   "cell_type": "code",
   "execution_count": 12,
   "metadata": {},
   "outputs": [],
   "source": [
    "# print(\"Documents from site 6:\", nairobi.count_documents({\"metadata.site\":6}) )\n",
    "# print(\"Documents from site 29:\", nairobi.count_documents({\"metadata.site\":29}) )"
   ]
  },
  {
   "cell_type": "markdown",
   "metadata": {},
   "source": [
    "# Do Count aggregation on Collection (Table) by attribute (Column)"
   ]
  },
  {
   "cell_type": "code",
   "execution_count": 13,
   "metadata": {},
   "outputs": [],
   "source": [
    "\n",
    "# result = nairobi.aggregate(\n",
    "#     [\n",
    "#         {\"$group\": \n",
    "#              {\n",
    "#                  \"_id\": \"$metadata.site\", \n",
    "#                  \"count\":{\"$count\":{}}\n",
    "#              }\n",
    "#         }\n",
    "#     ]\n",
    "# )\n",
    "# pp.pprint(list(result))"
   ]
  },
  {
   "cell_type": "markdown",
   "metadata": {},
   "source": [
    "# See distinct values of attribute (Column)"
   ]
  },
  {
   "cell_type": "code",
   "execution_count": 14,
   "metadata": {},
   "outputs": [],
   "source": [
    "# nairobi.distinct(\"metadata.measurement\")"
   ]
  },
  {
   "cell_type": "markdown",
   "metadata": {},
   "source": [
    "# Show 3 records from Collection (Table) where attribute is of a value"
   ]
  },
  {
   "cell_type": "code",
   "execution_count": 15,
   "metadata": {},
   "outputs": [],
   "source": [
    "# result = nairobi.find({\"metadata.measurement\" : \"P2\"}).limit(3)\n",
    "# pp.pprint(list(result))"
   ]
  },
  {
   "cell_type": "code",
   "execution_count": 16,
   "metadata": {},
   "outputs": [],
   "source": [
    "\n",
    "# result = nairobi.aggregate(\n",
    "#     [\n",
    "#         {\"$match\": \n",
    "#              {\n",
    "#                  \"metadata.site\" : 6\n",
    "#              }\n",
    "#         },\n",
    "#         {\"$group\": \n",
    "#              {\n",
    "#                  \"_id\": \"$metadata.measurement\", \n",
    "#                  \"count\":{\"$count\":{}}\n",
    "#              }\n",
    "#         },\n",
    "#     ]\n",
    "# )\n",
    "# pp.pprint(list(result))"
   ]
  },
  {
   "cell_type": "code",
   "execution_count": 17,
   "metadata": {},
   "outputs": [],
   "source": [
    "\n",
    "# result = nairobi.aggregate(\n",
    "#     [\n",
    "#         {\"$match\": \n",
    "#              {\n",
    "#                  \"metadata.site\" : 29\n",
    "#              }\n",
    "#         },\n",
    "#         {\"$group\": \n",
    "#              {\n",
    "#                  \"_id\": \"$metadata.measurement\", \n",
    "#                  \"count\":{\"$count\":{}}\n",
    "#              }\n",
    "#         },\n",
    "#     ]\n",
    "# )\n",
    "# pp.pprint(list(result))"
   ]
  },
  {
   "cell_type": "code",
   "execution_count": 18,
   "metadata": {},
   "outputs": [],
   "source": [
    "# result = nairobi.find(\n",
    "#     {\"metadata.site\":29, \n",
    "#     \"metadata.measurement\": \"P2\"},\n",
    "#     projection = {\"_id\":0, \"P2\":1, \"timestamp\":1}\n",
    "# )\n",
    "# pp.pprint(result.next())"
   ]
  },
  {
   "cell_type": "code",
   "execution_count": 19,
   "metadata": {},
   "outputs": [],
   "source": [
    "# df = pd.DataFrame(result).set_index(\"timestamp\")\n",
    "# df.head()"
   ]
  }
 ],
 "metadata": {
  "kernelspec": {
   "display_name": "Python 3.8.3 ('base')",
   "language": "python",
   "name": "python3"
  },
  "language_info": {
   "codemirror_mode": {
    "name": "ipython",
    "version": 3
   },
   "file_extension": ".py",
   "mimetype": "text/x-python",
   "name": "python",
   "nbconvert_exporter": "python",
   "pygments_lexer": "ipython3",
   "version": "3.8.3"
  },
  "orig_nbformat": 4,
  "vscode": {
   "interpreter": {
    "hash": "dc575bfddb5c8ca4bb6a4f4dcdd32abc104b5fa4177361381c432fff36ce3e46"
   }
  }
 },
 "nbformat": 4,
 "nbformat_minor": 2
}
