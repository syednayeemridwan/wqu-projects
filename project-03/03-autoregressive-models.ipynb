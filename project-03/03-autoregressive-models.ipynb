{
 "cells": [
  {
   "cell_type": "markdown",
   "metadata": {},
   "source": [
    "<font size=\"+3\"><strong>3.3. Autoregressive Models</strong></font>"
   ]
  },
  {
   "cell_type": "markdown",
   "metadata": {},
   "source": [
    "# Import Necessary Packages"
   ]
  },
  {
   "cell_type": "code",
   "execution_count": 1,
   "metadata": {},
   "outputs": [],
   "source": [
    "# import warnings\n",
    "\n",
    "# import matplotlib.pyplot as plt\n",
    "# import pandas as pd\n",
    "# import plotly.express as px\n",
    "# from IPython.display import VimeoVideo\n",
    "# from pymongo import MongoClient\n",
    "# from sklearn.metrics import mean_absolute_error\n",
    "# from statsmodels.graphics.tsaplots import plot_acf, plot_pacf\n",
    "# from statsmodels.tsa.ar_model import AutoReg\n",
    "\n",
    "# warnings.simplefilter(action=\"ignore\", category=FutureWarning)"
   ]
  },
  {
   "cell_type": "markdown",
   "metadata": {},
   "source": [
    "# Use Existing Wrangle Function"
   ]
  },
  {
   "cell_type": "code",
   "execution_count": 1,
   "metadata": {},
   "outputs": [],
   "source": [
    "# def wrangle(collection):\n",
    "#     results = collection.find(\n",
    "#         {\"metadata.site\": 29, \"metadata.measurement\": \"P2\"},\n",
    "#         projection={\"P2\": 1, \"timestamp\": 1, \"_id\": 0},\n",
    "#     )\n",
    "\n",
    "#     # Read data into DataFrame\n",
    "#     df = pd.DataFrame(list(results)).set_index(\"timestamp\")\n",
    "\n",
    "#     # Localize timezone\n",
    "#     df.index = df.index.tz_localize(\"UTC\").tz_convert(\"Africa/Nairobi\")\n",
    "\n",
    "#     # Remove outliers\n",
    "#     df = df[df[\"P2\"] < 500]\n",
    "\n",
    "#     # Resample to 1hr window\n",
    "#     y = df[\"P2\"].resample(\"1H\").mean().fillna(method='ffill').to_frame()\n",
    "\n",
    "#     return y[\"P2\"]"
   ]
  },
  {
   "cell_type": "code",
   "execution_count": 2,
   "metadata": {},
   "outputs": [],
   "source": [
    "# y = wrangle(nairobi)\n",
    "# y.head()"
   ]
  },
  {
   "cell_type": "markdown",
   "metadata": {},
   "source": [
    "# See Correlation of original data with LAG (ACF)"
   ]
  },
  {
   "cell_type": "markdown",
   "metadata": {},
   "source": [
    "- Tells if current data can be predicted by any lag of the past\n",
    "- Shows the correlation between current value and the values in the past"
   ]
  },
  {
   "cell_type": "code",
   "execution_count": 3,
   "metadata": {},
   "outputs": [],
   "source": [
    "# print(y.corr(y))\n",
    "# print(y.corr(y.shift(1)))\n",
    "# print(y.corr(y.shift(2)))\n",
    "# print(y.corr(y.shift(3)))"
   ]
  },
  {
   "cell_type": "markdown",
   "metadata": {},
   "source": [
    "# See auto correlation plot"
   ]
  },
  {
   "cell_type": "markdown",
   "metadata": {},
   "source": [
    "- Values on x-axis show lag values\n",
    "- Values on y-axis show corresponding correlation of the lag related to current value \n",
    "- Correlation determines the correlation between current value and other lags\n",
    "- Any values between the blue band area region is not statistically significant\n",
    "- The lags with the most vertical height has the most significant predictive power "
   ]
  },
  {
   "cell_type": "code",
   "execution_count": 4,
   "metadata": {},
   "outputs": [],
   "source": [
    "# fig, ax = plt.subplots(figsize=(15, 6))\n",
    "# plot_acf(y, ax=ax)\n",
    "# plt.xlabel(\"Lag [hours]\")\n",
    "# plt.ylabel(\"Correlation Coefficient\");"
   ]
  },
  {
   "cell_type": "markdown",
   "metadata": {},
   "source": [
    "# See Correlation between different LAGs (echo)\n"
   ]
  },
  {
   "cell_type": "code",
   "execution_count": 5,
   "metadata": {},
   "outputs": [],
   "source": [
    "# print(y.shift(1).corr(y.shift(2))) #echo of same correlation\n",
    "# print(y.shift(2).corr(y.shift(3))) #echo of same correlation\n",
    "\n",
    "# print(y.shift(1).corr(y.shift(3))) #echo of same correlation\n",
    "# print(y.shift(2).corr(y.shift(4))) #echo of same correlation\n",
    "\n",
    "# print(y.shift(1).corr(y.shift(4))) #echo of same correlation\n",
    "# print(y.shift(2).corr(y.shift(5))) #echo of same correlation"
   ]
  },
  {
   "cell_type": "markdown",
   "metadata": {},
   "source": [
    "# See partial auto correlation plot\n"
   ]
  },
  {
   "cell_type": "markdown",
   "metadata": {},
   "source": [
    "- For every hour, the previous hour has some level of correlation\n",
    "    - This correlation is same for 1PM and 2PM, 2PM and 3PM and so on..\n",
    "    - This correlation is echoed in every dataset\n",
    "    - Partial auto correlation determines the original correlation between values without this echo correlation\n",
    "- Determines how many lags term will come in your model\n",
    "- Values on x-axis show lag values\n",
    "- Values on y-axis show corresponding correlation of the lag related to current value without echo\n",
    "- Correlation determines the correlation between current value and other lags if the echo did not exist\n",
    "- Any values between the blue band area region is not statistically significant\n",
    "- The lags with the most vertical height has the most significant predictive power \n"
   ]
  },
  {
   "cell_type": "code",
   "execution_count": 6,
   "metadata": {},
   "outputs": [],
   "source": [
    "# fig, ax = plt.subplots(figsize=(15, 6))\n",
    "# plot_pacf(y, ax=ax)\n",
    "# plt.xlabel(\"Lag [hours]\")\n",
    "# plt.ylabel(\"Correlation Coefficient\");"
   ]
  },
  {
   "cell_type": "markdown",
   "metadata": {},
   "source": [
    "# Split Training and Testing Data"
   ]
  },
  {
   "cell_type": "code",
   "execution_count": 7,
   "metadata": {},
   "outputs": [],
   "source": [
    "# int(len(y) * 0.95)\n",
    "\n",
    "# cutoff_test = int(len(y) * 0.95)\n",
    "\n",
    "# y_train = y.iloc[:cutoff_test]\n",
    "# y_test = y.iloc[cutoff_test:]"
   ]
  },
  {
   "cell_type": "markdown",
   "metadata": {},
   "source": [
    "# Create Baseline Model"
   ]
  },
  {
   "cell_type": "code",
   "execution_count": 13,
   "metadata": {},
   "outputs": [],
   "source": [
    "# y_train_mean = y_train.mean()\n",
    "# y_pred_baseline = [y_train_mean] * len(y_train)\n",
    "\n"
   ]
  },
  {
   "cell_type": "markdown",
   "metadata": {},
   "source": [
    "# Mean Absolute Error of Baseline Model"
   ]
  },
  {
   "cell_type": "code",
   "execution_count": 14,
   "metadata": {},
   "outputs": [],
   "source": [
    "# mae_baseline = mean_absolute_error(y_train, y_pred_baseline)\n",
    "\n",
    "# print(\"Mean P2 Reading:\", round(y_train_mean, 2))\n",
    "# print(\"Baseline MAE:\", round(mae_baseline, 2))\n"
   ]
  },
  {
   "cell_type": "markdown",
   "metadata": {},
   "source": [
    "# Create Auto-regression Model"
   ]
  },
  {
   "cell_type": "code",
   "execution_count": 9,
   "metadata": {},
   "outputs": [],
   "source": [
    "# model = AutoReg(y_train, lags= 26).fit()"
   ]
  },
  {
   "cell_type": "code",
   "execution_count": 11,
   "metadata": {},
   "outputs": [],
   "source": [
    "# model.predict().isnull().sum()"
   ]
  },
  {
   "cell_type": "markdown",
   "metadata": {},
   "source": [
    "# Mean Absolute Error of Autoregressive Model"
   ]
  },
  {
   "cell_type": "code",
   "execution_count": 12,
   "metadata": {},
   "outputs": [],
   "source": [
    "# y_pred = model.predict()\n",
    "# training_mae = mean_absolute_error(y_train[26:], y_pred[26:])\n",
    "# print(\"Training MAE:\", training_mae)"
   ]
  },
  {
   "cell_type": "markdown",
   "metadata": {},
   "source": [
    "# See residuals of the model"
   ]
  },
  {
   "cell_type": "code",
   "execution_count": 15,
   "metadata": {},
   "outputs": [],
   "source": [
    "# y_train_resid = model.resid  # y_train - y_pred\n",
    "# y_train_resid.tail()"
   ]
  },
  {
   "cell_type": "markdown",
   "metadata": {},
   "source": [
    "# Plot Residuals"
   ]
  },
  {
   "cell_type": "code",
   "execution_count": 16,
   "metadata": {},
   "outputs": [],
   "source": [
    "# fig, ax = plt.subplots(figsize=(15, 6))\n",
    "# y_train_resid.plot(ylabel = \"Residual Values\", ax = ax)"
   ]
  },
  {
   "cell_type": "markdown",
   "metadata": {},
   "source": [
    "# See distribution of residuals"
   ]
  },
  {
   "cell_type": "code",
   "execution_count": 17,
   "metadata": {},
   "outputs": [],
   "source": [
    "# fig, ax = plt.subplots(figsize=(15, 6))\n",
    "# y_train_resid.plot(kind = \"hist\", ax=ax)\n",
    "# plt.xlabel(\"Residual Value\")\n",
    "# plt.ylabel(\"Frequency\")\n",
    "# plt.title(\"AR 26 Residual Distribution\")"
   ]
  },
  {
   "cell_type": "markdown",
   "metadata": {},
   "source": [
    "# See ACF Plot of residuals"
   ]
  },
  {
   "cell_type": "code",
   "execution_count": 18,
   "metadata": {},
   "outputs": [],
   "source": [
    "# fig, ax = plt.subplots(figsize=(15, 6))\n",
    "# plot_acf(y_train_resid, ax = ax)"
   ]
  },
  {
   "cell_type": "markdown",
   "metadata": {},
   "source": [
    "# Find Mean Absolute Error of the model"
   ]
  },
  {
   "cell_type": "code",
   "execution_count": 19,
   "metadata": {},
   "outputs": [],
   "source": [
    "# min_test = y_test.index.min()\n",
    "# max_test = y_test.index.max()"
   ]
  },
  {
   "cell_type": "code",
   "execution_count": 20,
   "metadata": {},
   "outputs": [],
   "source": [
    "# y_pred_test = model.predict(min_test, max_test)\n",
    "# test_mae = mean_absolute_error(y_test, y_pred_test)\n",
    "# print(\"Test MAE:\", test_mae)"
   ]
  },
  {
   "cell_type": "code",
   "execution_count": 21,
   "metadata": {},
   "outputs": [],
   "source": [
    "# df_pred_test = pd.DataFrame(\n",
    "#     {\"y_test\": y_test, \"y_pred\": y_pred_test}, index=y_test.index\n",
    "# )\n",
    "# df_pred_test.head()"
   ]
  },
  {
   "cell_type": "markdown",
   "metadata": {},
   "source": [
    "# Plot testing data vs predicted data"
   ]
  },
  {
   "cell_type": "code",
   "execution_count": 22,
   "metadata": {},
   "outputs": [],
   "source": [
    "# fig = px.line(df_pred_test, labels={\"value\": \"P2\"})\n",
    "# fig.show()"
   ]
  },
  {
   "cell_type": "markdown",
   "metadata": {},
   "source": [
    "# Create a walk-forward Model"
   ]
  },
  {
   "cell_type": "code",
   "execution_count": 23,
   "metadata": {},
   "outputs": [],
   "source": [
    "# %%capture\n",
    "\n",
    "# y_pred_wfv = pd.Series()\n",
    "# history = y_train.copy()\n",
    "# for i in range(len(y_test)):\n",
    "#     model = AutoReg(history, lags= 26).fit()\n",
    "#     next_pred = model.forecast()\n",
    "#     y_pred_wfv = y_pred_wfv.append(next_pred)\n",
    "#     history = history.append(y_test[next_pred.index])"
   ]
  },
  {
   "cell_type": "markdown",
   "metadata": {},
   "source": [
    "# Find MAE on walk-forward Model"
   ]
  },
  {
   "cell_type": "code",
   "execution_count": 24,
   "metadata": {},
   "outputs": [],
   "source": [
    "# test_mae = mean_absolute_error(y_test, y_pred_wfv)\n",
    "# print(\"Test MAE (walk forward validation):\", round(test_mae, 2))"
   ]
  },
  {
   "cell_type": "markdown",
   "metadata": {},
   "source": [
    "# See Model Parameters"
   ]
  },
  {
   "cell_type": "code",
   "execution_count": 25,
   "metadata": {},
   "outputs": [],
   "source": [
    "# print(model.params)"
   ]
  },
  {
   "cell_type": "markdown",
   "metadata": {},
   "source": [
    "# Plot test data vs Walk-Forward predicted data"
   ]
  },
  {
   "cell_type": "code",
   "execution_count": 26,
   "metadata": {},
   "outputs": [],
   "source": [
    "# df_predictions = pd.DataFrame({\n",
    "#     \"y_test\" : y_test,\n",
    "#     \"y_pred_wfv\": y_pred_wfv\n",
    "# })\n",
    "# fig = px.line(df_predictions, labels = {\"value\" : \"PM2.5\"})\n",
    "# fig.show()"
   ]
  }
 ],
 "metadata": {
  "kernelspec": {
   "display_name": "Python 3.8.11 ('env_py')",
   "language": "python",
   "name": "python3"
  },
  "language_info": {
   "codemirror_mode": {
    "name": "ipython",
    "version": 3
   },
   "file_extension": ".py",
   "mimetype": "text/x-python",
   "name": "python",
   "nbconvert_exporter": "python",
   "pygments_lexer": "ipython3",
   "version": "3.8.11"
  },
  "orig_nbformat": 4,
  "vscode": {
   "interpreter": {
    "hash": "1e949e87132dd83f1a7623eb88007e3532b03b66b77111be347aa4a383049722"
   }
  }
 },
 "nbformat": 4,
 "nbformat_minor": 2
}
