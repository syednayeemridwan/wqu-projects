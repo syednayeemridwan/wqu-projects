{
 "cells": [
  {
   "cell_type": "markdown",
   "metadata": {},
   "source": [
    "<font size=\"+3\"><strong>3.4. ARMA Models</strong></font>"
   ]
  },
  {
   "cell_type": "markdown",
   "metadata": {},
   "source": [
    "# Import Necessary Packages"
   ]
  },
  {
   "cell_type": "code",
   "execution_count": 1,
   "metadata": {},
   "outputs": [],
   "source": [
    "# import inspect\n",
    "# import time\n",
    "# import warnings\n",
    "\n",
    "# import matplotlib.pyplot as plt\n",
    "# import pandas as pd\n",
    "# import plotly.express as px\n",
    "# import seaborn as sns\n",
    "# from IPython.display import VimeoVideo\n",
    "# from pymongo import MongoClient\n",
    "# from sklearn.metrics import mean_absolute_error\n",
    "# from statsmodels.graphics.tsaplots import plot_acf, plot_pacf\n",
    "# from statsmodels.tsa.arima.model import ARIMA\n",
    "\n",
    "# warnings.filterwarnings(\"ignore\")"
   ]
  },
  {
   "cell_type": "code",
   "execution_count": 1,
   "metadata": {},
   "outputs": [],
   "source": [
    "# client = MongoClient(host=\"localhost\", port=27017)\n",
    "# db = client[\"air-quality\"]\n",
    "# nairobi = db[\"nairobi\"]"
   ]
  },
  {
   "cell_type": "markdown",
   "metadata": {},
   "source": [
    "# Use existing wrangle function"
   ]
  },
  {
   "cell_type": "code",
   "execution_count": 2,
   "metadata": {},
   "outputs": [],
   "source": [
    "# def wrangle(collection, resample_rule = \"1H\"):\n",
    "\n",
    "#     results = collection.find(\n",
    "#         {\"metadata.site\": 29, \"metadata.measurement\": \"P2\"},\n",
    "#         projection={\"P2\": 1, \"timestamp\": 1, \"_id\": 0},\n",
    "#     )\n",
    "\n",
    "#     # Read results into DataFrame\n",
    "#     df = pd.DataFrame(list(results)).set_index(\"timestamp\")\n",
    "\n",
    "#     # Localize timezone\n",
    "#     df.index = df.index.tz_localize(\"UTC\").tz_convert(\"Africa/Nairobi\")\n",
    "\n",
    "#     # Remove outliers\n",
    "#     df = df[df[\"P2\"] < 500]\n",
    "\n",
    "#     # Resample and forward-fill\n",
    "#     y = df[\"P2\"].resample(resample_rule).mean().fillna(method='ffill').to_frame()[\"P2\"]\n",
    "\n",
    "#     return y"
   ]
  },
  {
   "cell_type": "code",
   "execution_count": 3,
   "metadata": {},
   "outputs": [],
   "source": [
    "# y = wrangle(nairobi)\n",
    "# y.head()"
   ]
  },
  {
   "cell_type": "markdown",
   "metadata": {},
   "source": [
    "# Create Different ARMA Models"
   ]
  },
  {
   "cell_type": "code",
   "execution_count": 4,
   "metadata": {},
   "outputs": [],
   "source": [
    "# # Create dictionary to store MAEs\n",
    "# mae_grid = dict()\n",
    "# # Outer loop: Iterate through possible values for `p`\n",
    "# for p in p_params:\n",
    "#     # Create key-value pair in dict. Key is `p`, value is empty list.\n",
    "#     mae_grid[p] = list()\n",
    "#     # Inner loop: Iterate through possible values for `q`\n",
    "#     for q in q_params:\n",
    "#         # Combination of hyperparameters for model\n",
    "#         order = (p, 0, q)\n",
    "#         # Note start time\n",
    "#         start_time = time.time()\n",
    "#         # Train model\n",
    "#         model = ARIMA(y_train, order= order).fit()\n",
    "#         # Calculate model training time\n",
    "#         elapsed_time = round(time.time() - start_time, 2)\n",
    "#         print(f\"Trained ARIMA {order} in {elapsed_time} seconds.\")\n",
    "#         # Generate in-sample (training) predictions\n",
    "#         y_pred = model.predict()\n",
    "#         # Calculate training MAE\n",
    "#         mae = mean_absolute_error(y_train, y_pred)\n",
    "#         # Append MAE to list in dictionary\n",
    "#         mae_grid[p].append(mae)\n",
    "\n",
    "# print()\n",
    "# print(mae_grid)"
   ]
  },
  {
   "cell_type": "markdown",
   "metadata": {},
   "source": [
    "# Make a Dataframe of MAE of different models to choose the right model"
   ]
  },
  {
   "cell_type": "code",
   "execution_count": 5,
   "metadata": {},
   "outputs": [],
   "source": [
    "# mae_df = pd.DataFrame(mae_grid)\n",
    "# mae_df.round(4)"
   ]
  },
  {
   "cell_type": "markdown",
   "metadata": {},
   "source": [
    "# Plot Heatmap to find best value"
   ]
  },
  {
   "cell_type": "code",
   "execution_count": 6,
   "metadata": {},
   "outputs": [],
   "source": [
    "# fig, ax = plt.subplots(figsize = (6, 4))\n",
    "\n",
    "# sns.heatmap(mae_df, cmap = \"Blues\")\n",
    "# plt.xlabel(\"p values\")\n",
    "# plt.ylabel(\"q values\")\n",
    "# plt.title(\"ARMA Grid Search (Criterion: MAE)\");"
   ]
  },
  {
   "cell_type": "markdown",
   "metadata": {},
   "source": [
    "# See Model Diagnostics"
   ]
  },
  {
   "cell_type": "code",
   "execution_count": 7,
   "metadata": {},
   "outputs": [],
   "source": [
    "# fig, ax = plt.subplots(figsize=(15, 12))\n",
    "\n",
    "# model.plot_diagnostics(fig = fig);"
   ]
  },
  {
   "cell_type": "markdown",
   "metadata": {},
   "source": [
    "# Walk-Forward Validation"
   ]
  },
  {
   "cell_type": "code",
   "execution_count": 8,
   "metadata": {},
   "outputs": [],
   "source": [
    "# y_pred_wfv = pd.Series()\n",
    "# history = y_train.copy()\n",
    "# for i in range(len(y_test)):\n",
    "#     model = ARIMA(history, order = (8,0,1)).fit()\n",
    "#     next_pred = model.forecast()\n",
    "#     y_pred_wfv = y_pred_wfv.append(next_pred)\n",
    "#     history = history.append(y_test[next_pred.index])"
   ]
  },
  {
   "cell_type": "markdown",
   "metadata": {},
   "source": [
    "# MAE of Walk-Forward Validation"
   ]
  },
  {
   "cell_type": "code",
   "execution_count": 9,
   "metadata": {},
   "outputs": [],
   "source": [
    "# test_mae = mean_absolute_error(y_test, y_pred_wfv)\n",
    "# print(\"Test MAE (walk forward validation):\", round(test_mae, 2))"
   ]
  },
  {
   "cell_type": "markdown",
   "metadata": {},
   "source": [
    "# Plot MAE of Walk-Forward Validation\n"
   ]
  },
  {
   "cell_type": "code",
   "execution_count": 10,
   "metadata": {},
   "outputs": [],
   "source": [
    "# df_predictions= pd.DataFrame({\n",
    "#     \"y_test\" : y_test,\n",
    "#     \"y_pred_wfv\": y_pred_wfv\n",
    "# })\n",
    "# fig = px.line(df_predictions, labels = {\"value\" : \"PM2.5\"})\n",
    "# fig.show()"
   ]
  }
 ],
 "metadata": {
  "kernelspec": {
   "display_name": "Python 3.8.11 ('env_py')",
   "language": "python",
   "name": "python3"
  },
  "language_info": {
   "codemirror_mode": {
    "name": "ipython",
    "version": 3
   },
   "file_extension": ".py",
   "mimetype": "text/x-python",
   "name": "python",
   "nbconvert_exporter": "python",
   "pygments_lexer": "ipython3",
   "version": "3.8.11"
  },
  "orig_nbformat": 4,
  "vscode": {
   "interpreter": {
    "hash": "1e949e87132dd83f1a7623eb88007e3532b03b66b77111be347aa4a383049722"
   }
  }
 },
 "nbformat": 4,
 "nbformat_minor": 2
}
