{
 "cells": [
  {
   "cell_type": "markdown",
   "metadata": {},
   "source": [
    "<font size=\"+3\"><strong>Air Quality in Dar es Salaam 🇹🇿</strong></font>"
   ]
  },
  {
   "cell_type": "markdown",
   "metadata": {},
   "source": [
    "# Import Necessary Libraries"
   ]
  },
  {
   "cell_type": "code",
   "execution_count": 1,
   "metadata": {},
   "outputs": [],
   "source": [
    "# # Import libraries here\n",
    "\n",
    "# import inspect\n",
    "# import time\n",
    "\n",
    "# import matplotlib.pyplot as plt\n",
    "# import pandas as pd\n",
    "# import plotly.express as px\n",
    "# import seaborn as sns\n",
    "# from IPython.display import VimeoVideo\n",
    "# from pymongo import MongoClient\n",
    "# from sklearn.metrics import mean_absolute_error\n",
    "# from statsmodels.graphics.tsaplots import plot_acf, plot_pacf\n",
    "# from statsmodels.tsa.arima.model import ARIMA"
   ]
  },
  {
   "cell_type": "markdown",
   "metadata": {},
   "source": [
    "# Select Specified Database"
   ]
  },
  {
   "cell_type": "code",
   "execution_count": 2,
   "metadata": {},
   "outputs": [],
   "source": [
    "# client = MongoClient(host=\"localhost\", port=27017)\n",
    "# db = client[\"air-quality\"]\n",
    "# # print(db)\n",
    "# print(list(db.list_collections())[1])\n",
    "# for c in db.list_collections():\n",
    "#     print(c[\"name\"])\n",
    "# dar = db[\"dar-es-salaam\"]"
   ]
  },
  {
   "cell_type": "markdown",
   "metadata": {},
   "source": [
    "# Get Distinct Values"
   ]
  },
  {
   "cell_type": "code",
   "execution_count": 3,
   "metadata": {},
   "outputs": [],
   "source": [
    "# # print(dar.find({})[0])\n",
    "# # sites \n",
    "# sites = dar.distinct(\"metadata.site\")\n",
    "\n",
    "# list(sites)"
   ]
  },
  {
   "cell_type": "markdown",
   "metadata": {},
   "source": [
    "# Do aggregation"
   ]
  },
  {
   "cell_type": "code",
   "execution_count": 4,
   "metadata": {},
   "outputs": [],
   "source": [
    "# result = dar.aggregate(\n",
    "#     [\n",
    "#         {\"$group\": \n",
    "#              {\n",
    "#                  \"_id\": \"$metadata.site\", \n",
    "#                  \"count\":{\"$count\":{}}\n",
    "#              }\n",
    "#         }\n",
    "#     ]\n",
    "# )\n",
    "# readings_per_site = list(result)\n",
    "# readings_per_site"
   ]
  },
  {
   "cell_type": "markdown",
   "metadata": {},
   "source": [
    "# Wrangle Data"
   ]
  },
  {
   "cell_type": "code",
   "execution_count": 5,
   "metadata": {},
   "outputs": [],
   "source": [
    "# def wrangle(collection, resample_rule = \"1H\"):\n",
    "\n",
    "#     results = collection.find(\n",
    "#         {\"metadata.site\": 11, \"metadata.measurement\": \"P2\"},\n",
    "#         projection={\"P2\": 1, \"timestamp\": 1, \"_id\": 0},\n",
    "#     )\n",
    "# #     results = list(collection)\n",
    "\n",
    "#     # Read results into DataFrame\n",
    "#     df = pd.DataFrame(list(results)).set_index(\"timestamp\")\n",
    "\n",
    "#     # Localize timezone\n",
    "#     df.index = df.index.tz_localize(\"UTC\").tz_convert(\"Africa/Dar_es_Salaam\")\n",
    "\n",
    "#     # Remove outliers\n",
    "#     df = df[df[\"P2\"] <= 100]\n",
    "\n",
    "#     # Resample and forward-fill\n",
    "#     y = df[\"P2\"].resample(resample_rule).mean().fillna(method='ffill').to_frame()[\"P2\"]\n",
    "\n",
    "#     return y"
   ]
  },
  {
   "cell_type": "code",
   "execution_count": 6,
   "metadata": {},
   "outputs": [],
   "source": [
    "# y = wrangle(dar)\n",
    "# y.head()"
   ]
  },
  {
   "cell_type": "markdown",
   "metadata": {},
   "source": [
    "# Plot readings with Line Plot"
   ]
  },
  {
   "cell_type": "code",
   "execution_count": 7,
   "metadata": {},
   "outputs": [],
   "source": [
    "# fig, ax = plt.subplots(figsize=(15, 6))\n",
    "# y.plot(ax = ax)\n",
    "# plt.xlabel(\"Date\")\n",
    "# plt.ylabel(\"PM2.5 Level\")\n",
    "# plt.title(\"Dar es Salaam PM2.5 Levels\")\n",
    "\n",
    "# # Don't delete the code below 👇\n",
    "# plt.savefig(\"images/3-5-5.png\", dpi=150)\n"
   ]
  },
  {
   "cell_type": "markdown",
   "metadata": {},
   "source": [
    "# Create a plot of rolling values"
   ]
  },
  {
   "cell_type": "code",
   "execution_count": 8,
   "metadata": {},
   "outputs": [],
   "source": [
    "# fig, ax = plt.subplots(figsize=(15, 6))\n",
    "\n",
    "# plt.plot(y.rolling(168).mean())\n",
    "# plt.xlabel(\"Date\")\n",
    "# plt.ylabel(\"PM2.5 Level\")\n",
    "# plt.title(\"Dar es Salaam PM2.5 Levels, 7-Day Rolling Average\")\n",
    "# # Don't delete the code below 👇\n",
    "# plt.savefig(\"images/3-5-6.png\", dpi=150)\n"
   ]
  },
  {
   "cell_type": "markdown",
   "metadata": {},
   "source": [
    "# Plot ACF"
   ]
  },
  {
   "cell_type": "code",
   "execution_count": 9,
   "metadata": {},
   "outputs": [],
   "source": [
    "# fig, ax = plt.subplots(figsize=(15, 6))\n",
    "\n",
    "# plot_acf(y, ax= ax)\n",
    "# plt.xlabel(\"Lag [hours]\")\n",
    "# plt.ylabel(\"Correlation Coefficient\")\n",
    "# plt.title(\"Dar es Salaam PM2.5 Readings, ACF\")\n",
    "# # Don't delete the code below 👇\n",
    "# plt.savefig(\"images/3-5-7.png\", dpi=150)\n"
   ]
  },
  {
   "cell_type": "markdown",
   "metadata": {},
   "source": [
    "# Plot PACF"
   ]
  },
  {
   "cell_type": "code",
   "execution_count": 10,
   "metadata": {},
   "outputs": [],
   "source": [
    "# fig, ax = plt.subplots(figsize=(15, 6))\n",
    "# plot_pacf(y, ax= ax)\n",
    "# plt.xlabel(\"Lag [hours]\")\n",
    "# plt.ylabel(\"Correlation Coefficient\")\n",
    "# plt.title(\"Dar es Salaam PM2.5 Readings, PACF\")\n",
    "# # Don't delete the code below 👇\n",
    "# plt.savefig(\"images/3-5-8.png\", dpi=150)\n"
   ]
  },
  {
   "cell_type": "markdown",
   "metadata": {},
   "source": [
    "# Split Dataset"
   ]
  },
  {
   "cell_type": "code",
   "execution_count": 11,
   "metadata": {},
   "outputs": [],
   "source": [
    "# cutoff_test = int(len(y) * 0.9)\n",
    "# y_train = y[:cutoff_test]\n",
    "# y_test = y[cutoff_test:]\n",
    "# print(\"y_train shape:\", y_train.shape)\n",
    "# print(\"y_test shape:\", y_test.shape)"
   ]
  },
  {
   "cell_type": "markdown",
   "metadata": {},
   "source": [
    "# Build Baseline Model"
   ]
  },
  {
   "cell_type": "code",
   "execution_count": 12,
   "metadata": {},
   "outputs": [],
   "source": [
    "# y_train_mean = y_train.mean()\n",
    "# y_pred_baseline = [y_train_mean] * len(y_train)\n",
    "# mae_baseline = mean_absolute_error(y_train, y_pred_baseline)\n",
    "\n",
    "# print(\"Mean P2 Reading:\", y_train_mean)\n",
    "# print(\"Baseline MAE:\", mae_baseline)"
   ]
  },
  {
   "cell_type": "markdown",
   "metadata": {},
   "source": [
    "# Create Autoregressive Model"
   ]
  },
  {
   "cell_type": "code",
   "execution_count": 13,
   "metadata": {},
   "outputs": [],
   "source": [
    "# from statsmodels.tsa.ar_model import AutoReg\n",
    "\n",
    "# p_params = range(1, 31)\n",
    "# maes = []\n",
    "# x_type = None\n",
    "# for p in p_params:\n",
    "#     model = AutoReg(y_train, lags= p).fit()\n",
    "#     x_type = type(model)\n",
    "#     y_pred = model.predict()\n",
    "#     training_mae = mean_absolute_error(y_train[p:], y_pred[p:])\n",
    "#     maes.append(training_mae)\n",
    "\n",
    "# print(x_type)\n",
    "# mae_series = pd.Series(maes, name=\"mae\", index=p_params)\n",
    "# mae_series.head()"
   ]
  },
  {
   "cell_type": "markdown",
   "metadata": {},
   "source": [
    "### Select best p parameter for the model"
   ]
  },
  {
   "cell_type": "code",
   "execution_count": 14,
   "metadata": {},
   "outputs": [],
   "source": [
    "# best_p = mae_series[mae_series == mae_series.max()].index[0]\n",
    "# print(best_p)\n",
    "# best_model = AutoReg(y_train, lags= best_p).fit()"
   ]
  },
  {
   "cell_type": "markdown",
   "metadata": {},
   "source": [
    "### Select best model residuals\n"
   ]
  },
  {
   "cell_type": "code",
   "execution_count": 15,
   "metadata": {},
   "outputs": [],
   "source": [
    "# y_train_resid = best_model.resid\n",
    "# y_train_resid.name = \"residuals\"\n",
    "# y_train_resid.head()"
   ]
  },
  {
   "cell_type": "markdown",
   "metadata": {},
   "source": [
    "### See distribution of residuals"
   ]
  },
  {
   "cell_type": "code",
   "execution_count": 16,
   "metadata": {},
   "outputs": [],
   "source": [
    "# # Plot histogram of residuals\n",
    "# y_train_resid.plot(kind = \"hist\")\n",
    "# plt.xlabel(\"Residuals\")\n",
    "# plt.ylabel(\"Frequency\")\n",
    "# plt.title(\"Best Model, Training Residuals\")\n",
    "\n",
    "# # Don't delete the code below 👇\n",
    "# plt.savefig(\"images/3-5-14.png\", dpi=150)\n"
   ]
  },
  {
   "cell_type": "markdown",
   "metadata": {},
   "source": [
    "### See ACF of model residuals"
   ]
  },
  {
   "cell_type": "code",
   "execution_count": 17,
   "metadata": {},
   "outputs": [],
   "source": [
    "# fig, ax = plt.subplots(figsize=(15, 6))\n",
    "# plot_acf(y_train_resid, ax =ax)\n",
    "\n",
    "# plt.xlabel(\"Lag [hours]\")\n",
    "# plt.ylabel(\"Correlation Coefficient\")\n",
    "# plt.title(\"Dar es Salaam, Training Residuals ACF\")\n",
    "# # Don't delete the code below 👇\n",
    "# plt.savefig(\"images/3-5-15.png\", dpi=150)\n"
   ]
  },
  {
   "cell_type": "markdown",
   "metadata": {},
   "source": [
    "# Walk-Forward Validation"
   ]
  },
  {
   "cell_type": "code",
   "execution_count": 18,
   "metadata": {},
   "outputs": [],
   "source": [
    "# y_pred_wfv = pd.Series(dtype='float64')\n",
    "# history = y_train.copy()\n",
    "# for i in range(len(y_test)):\n",
    "#     model = AutoReg(history, lags= 26).fit()\n",
    "#     next_pred = model.forecast()\n",
    "#     y_pred_wfv = y_pred_wfv.append(next_pred)\n",
    "#     history = history.append(y_test[next_pred.index])\n",
    "    \n",
    "# y_pred_wfv.name = \"prediction\"\n",
    "# y_pred_wfv.index.name = \"timestamp\"\n",
    "# y_pred_wfv.head()"
   ]
  },
  {
   "cell_type": "markdown",
   "metadata": {},
   "source": [
    "# Communicate Results"
   ]
  },
  {
   "cell_type": "code",
   "execution_count": 19,
   "metadata": {},
   "outputs": [],
   "source": [
    "# df_pred_test = pd.DataFrame({\n",
    "#     \"y_test\":y_test,\n",
    "#     \"y_pred_wfv\":y_pred_wfv\n",
    "# })\n",
    "# fig = px.line(df_pred_test)\n",
    "# fig.update_layout(\n",
    "#     title=\"Dar es Salaam, WFV Predictions\",\n",
    "#     xaxis_title=\"Date\",\n",
    "#     yaxis_title=\"PM2.5 Level\",\n",
    "# )\n",
    "# # Don't delete the code below 👇\n",
    "# fig.write_image(\"images/3-5-18.png\", scale=1, height=500, width=700)\n",
    "\n",
    "# fig.show()"
   ]
  }
 ],
 "metadata": {
  "kernelspec": {
   "display_name": "Python 3.8.11 ('env_py')",
   "language": "python",
   "name": "python3"
  },
  "language_info": {
   "codemirror_mode": {
    "name": "ipython",
    "version": 3
   },
   "file_extension": ".py",
   "mimetype": "text/x-python",
   "name": "python",
   "nbconvert_exporter": "python",
   "pygments_lexer": "ipython3",
   "version": "3.8.11"
  },
  "orig_nbformat": 4,
  "vscode": {
   "interpreter": {
    "hash": "1e949e87132dd83f1a7623eb88007e3532b03b66b77111be347aa4a383049722"
   }
  }
 },
 "nbformat": 4,
 "nbformat_minor": 2
}
