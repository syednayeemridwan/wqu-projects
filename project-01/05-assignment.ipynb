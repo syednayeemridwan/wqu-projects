{
 "cells": [
  {
   "cell_type": "markdown",
   "metadata": {},
   "source": [
    "<font size=\"+3\"><strong>Assignment: Housing in Brazil 🇧🇷</strong></font>"
   ]
  },
  {
   "cell_type": "markdown",
   "metadata": {},
   "source": [
    "## Import Packages"
   ]
  },
  {
   "cell_type": "code",
   "execution_count": 1,
   "metadata": {},
   "outputs": [],
   "source": [
    "# Import Matplotlib, pandas, and plotly\n",
    "import matplotlib.pyplot as plt\n",
    "import pandas as pd\n",
    "import plotly.express as ex"
   ]
  },
  {
   "cell_type": "markdown",
   "metadata": {},
   "source": [
    "## Import Dataset"
   ]
  },
  {
   "cell_type": "code",
   "execution_count": 2,
   "metadata": {},
   "outputs": [],
   "source": [
    "# df1 = pd.read_csv(\"data/brasil-real-estate-1.csv\")\n",
    "# df1.head()"
   ]
  },
  {
   "cell_type": "markdown",
   "metadata": {},
   "source": [
    "## Preparing Dataset"
   ]
  },
  {
   "cell_type": "markdown",
   "metadata": {},
   "source": [
    "See Info"
   ]
  },
  {
   "cell_type": "code",
   "execution_count": 3,
   "metadata": {},
   "outputs": [],
   "source": [
    "# df1.info()"
   ]
  },
  {
   "cell_type": "markdown",
   "metadata": {},
   "source": [
    "Drop null values"
   ]
  },
  {
   "cell_type": "code",
   "execution_count": 4,
   "metadata": {},
   "outputs": [],
   "source": [
    "# df1.dropna(inplace = True)"
   ]
  },
  {
   "cell_type": "markdown",
   "metadata": {},
   "source": [
    "Create 2 columns from 1 column"
   ]
  },
  {
   "cell_type": "code",
   "execution_count": 5,
   "metadata": {},
   "outputs": [],
   "source": [
    "# df1[[\"lat\",\"lon\"]] = (df1[\"lat-lon\"]\n",
    "#                       .str\n",
    "#                       .split(\",\", expand = True)\n",
    "#                      .astype(float))\n",
    "# df1.info()"
   ]
  },
  {
   "cell_type": "markdown",
   "metadata": {},
   "source": [
    "Exclude unnecessary information from a column"
   ]
  },
  {
   "cell_type": "code",
   "execution_count": 7,
   "metadata": {},
   "outputs": [],
   "source": [
    "#  df1[\"state\"] = (df1[\"place_with_parent_names\"]\n",
    "#                  .str\n",
    "#                  .split(\"|\", expand = True)[2])\n",
    "#  df1.info()"
   ]
  },
  {
   "cell_type": "markdown",
   "metadata": {},
   "source": [
    "Convert object/string into proper numeric values"
   ]
  },
  {
   "cell_type": "code",
   "execution_count": 9,
   "metadata": {},
   "outputs": [],
   "source": [
    "# df1[\"price_usd\"] = df1[\"price_usd\"].str.replace(\"$\",\"\",regex = False)\n",
    "# df1[\"price_usd\"] = df1[\"price_usd\"].str.replace(\",\",\"\",regex = False).astype(float)\n",
    "# df1[\"price_usd\"].head()"
   ]
  },
  {
   "cell_type": "markdown",
   "metadata": {},
   "source": [
    "Drop unnecessary Columns"
   ]
  },
  {
   "cell_type": "code",
   "execution_count": 10,
   "metadata": {},
   "outputs": [],
   "source": [
    "# df1.drop(columns = [\"lat-lon\" , \"place_with_parent_names\"],inplace= True)\n",
    "# df1.columns"
   ]
  },
  {
   "cell_type": "code",
   "execution_count": 11,
   "metadata": {},
   "outputs": [],
   "source": [
    "# df2 = pd.read_csv(\"data/brasil-real-estate-2.csv\")"
   ]
  },
  {
   "cell_type": "code",
   "execution_count": 12,
   "metadata": {},
   "outputs": [],
   "source": [
    "# print(df2.head())\n",
    "# df2.info()"
   ]
  },
  {
   "cell_type": "code",
   "execution_count": 13,
   "metadata": {},
   "outputs": [],
   "source": [
    "# df2[\"price_usd\"] = df2[\"price_brl\"]/3.19\n",
    "# df2[\"price_usd\"].head()\n",
    "# df2.columns"
   ]
  },
  {
   "cell_type": "code",
   "execution_count": 14,
   "metadata": {},
   "outputs": [],
   "source": [
    "# df2.drop(columns = [\"price_brl\" ],inplace= True)\n",
    "# df2.dropna(inplace = True)\n",
    "# df2.info()"
   ]
  },
  {
   "cell_type": "markdown",
   "metadata": {},
   "source": [
    "Combine multiple dataframes "
   ]
  },
  {
   "cell_type": "code",
   "execution_count": 15,
   "metadata": {},
   "outputs": [],
   "source": [
    "# df = pd.concat([df1,df2])\n",
    "# print(\"df shape:\", df.shape)\n",
    "# df.info()"
   ]
  },
  {
   "cell_type": "markdown",
   "metadata": {},
   "source": [
    "# Explore Dataset"
   ]
  },
  {
   "cell_type": "markdown",
   "metadata": {},
   "source": [
    "Create a map for the dataset"
   ]
  },
  {
   "cell_type": "code",
   "execution_count": 16,
   "metadata": {},
   "outputs": [],
   "source": [
    "# fig = ex.scatter_mapbox(\n",
    "#     df,\n",
    "#     lat=\"lat\",\n",
    "#     lon=\"lon\",\n",
    "#     center={\"lat\": -14.2, \"lon\": -51.9},  # Map will be centered on Brazil\n",
    "#     width=600,\n",
    "#     height=600,\n",
    "#     hover_data=[\"price_usd\"],  # Display price when hovering mouse over house\n",
    "# )\n",
    "\n",
    "# fig.update_layout(mapbox_style=\"open-street-map\")\n",
    "\n",
    "# fig.show()"
   ]
  },
  {
   "cell_type": "markdown",
   "metadata": {},
   "source": [
    "See summary description"
   ]
  },
  {
   "cell_type": "code",
   "execution_count": 17,
   "metadata": {},
   "outputs": [],
   "source": [
    "# summary_stats = df[[\"area_m2\" , \"price_usd\"]].describe()\n",
    "# print(df.columns)\n",
    "# summary_stats"
   ]
  },
  {
   "cell_type": "markdown",
   "metadata": {},
   "source": [
    "See price distribution with visualization with histogram"
   ]
  },
  {
   "cell_type": "code",
   "execution_count": 18,
   "metadata": {},
   "outputs": [],
   "source": [
    "# (df[\"price_usd\"].plot(\n",
    "#     kind= \"hist\", \n",
    "#     xlabel = \"Price [USD]\" , \n",
    "#     ylabel= \"Frequency\", \n",
    "#     title = \"Distribution of Home Prices\"\n",
    "# ));\n",
    "# plt.savefig(\"images/1-5-12.png\", dpi=150)\n"
   ]
  },
  {
   "cell_type": "markdown",
   "metadata": {},
   "source": [
    "See skewness and outliers with boxplot"
   ]
  },
  {
   "cell_type": "code",
   "execution_count": 19,
   "metadata": {},
   "outputs": [],
   "source": [
    "# plt.boxplot(df[\"area_m2\"], vert= False)\n",
    "# plt.xlabel(\"Area [sq meters]\")\n",
    "# plt.title(\"Distribution of Home Sizes\")\n",
    "# # Don't change the code below\n",
    "# plt.savefig(\"images/1-5-13.png\", dpi=150)\n"
   ]
  },
  {
   "cell_type": "markdown",
   "metadata": {},
   "source": [
    "group and sort the dataset from lowest to highest"
   ]
  },
  {
   "cell_type": "code",
   "execution_count": 20,
   "metadata": {},
   "outputs": [],
   "source": [
    "# mean_price_by_region = (df\n",
    "#                         .groupby('region')['price_usd']\n",
    "#                         .mean()\n",
    "#                         .sort_values())\n",
    "# list(mean_price_by_region)"
   ]
  },
  {
   "cell_type": "markdown",
   "metadata": {},
   "source": [
    "See the group ascending order in visualization with bar chart"
   ]
  },
  {
   "cell_type": "code",
   "execution_count": 21,
   "metadata": {},
   "outputs": [],
   "source": [
    "# mean_price_by_region.plot(\n",
    "#     kind=\"bar\",\n",
    "#     xlabel = \"Region\",\n",
    "#     ylabel = \"Mean Price [USD]\",\n",
    "#     title = \"Mean Home Price by Region\"\n",
    "# )\n",
    "# # Don't change the code below\n",
    "# plt.savefig(\"images/1-5-15.png\", dpi=150)\n"
   ]
  },
  {
   "cell_type": "markdown",
   "metadata": {},
   "source": [
    "Mask to filter desired subset"
   ]
  },
  {
   "cell_type": "code",
   "execution_count": 22,
   "metadata": {},
   "outputs": [],
   "source": [
    "# df_south = df[df[\"region\"] == \"South\"]\n",
    "# df_south.head()"
   ]
  },
  {
   "cell_type": "code",
   "execution_count": 23,
   "metadata": {},
   "outputs": [],
   "source": [
    "# homes_by_state = df_south[\"state\"].value_counts(ascending=False)\n",
    "# homes_by_state"
   ]
  },
  {
   "cell_type": "markdown",
   "metadata": {},
   "source": [
    "Create scatterplot of 2 features in a filtered subset of dataframe"
   ]
  },
  {
   "cell_type": "code",
   "execution_count": 26,
   "metadata": {},
   "outputs": [],
   "source": [
    "# df_south = df_south[df_south['state'] == 'Rio Grande do Sul']\n",
    "# plt.scatter(x= df_south[\"area_m2\"], y = df_south[\"price_usd\"])\n",
    "# plt.xlabel(\"Area [sq meters]\")\n",
    "# plt.ylabel(\"Price [USD]\")\n",
    "# plt.title(\"<name of state>: Price vs. Area\")\n",
    "# plt.savefig(\"images/1-5-18.png\", dpi=150)\n"
   ]
  },
  {
   "cell_type": "markdown",
   "metadata": {},
   "source": [
    "Create a dictionary , where the keys are the names of the states in the \"South\" region of Brazil, and their associated values are the correlation coefficient between \"area_m2\" and \"price_usd\" in that state"
   ]
  },
  {
   "cell_type": "code",
   "execution_count": 25,
   "metadata": {},
   "outputs": [],
   "source": [
    "# south_states = list(homes_by_state.index)\n",
    "\n",
    "# south_states_corr = { }\n",
    "# for state in south_states:\n",
    "#     temp_df = df[df['state'] == state]\n",
    "#     south_states_corr[state] = temp_df[\"area_m2\"].corr(temp_df[\"price_usd\"])\n",
    "# south_states_corr"
   ]
  }
 ],
 "metadata": {
  "kernelspec": {
   "display_name": "Python 3.8.11 ('env_py')",
   "language": "python",
   "name": "python3"
  },
  "language_info": {
   "codemirror_mode": {
    "name": "ipython",
    "version": 3
   },
   "file_extension": ".py",
   "mimetype": "text/x-python",
   "name": "python",
   "nbconvert_exporter": "python",
   "pygments_lexer": "ipython3",
   "version": "3.8.11"
  },
  "orig_nbformat": 4,
  "vscode": {
   "interpreter": {
    "hash": "1e949e87132dd83f1a7623eb88007e3532b03b66b77111be347aa4a383049722"
   }
  }
 },
 "nbformat": 4,
 "nbformat_minor": 2
}
