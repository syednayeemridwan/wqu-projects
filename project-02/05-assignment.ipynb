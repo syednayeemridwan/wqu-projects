{
 "cells": [
  {
   "cell_type": "markdown",
   "metadata": {},
   "source": [
    "<font size=\"+3\"><strong>Assignment: Predicting Apartment Prices in Mexico City 🇲🇽</strong></font>"
   ]
  },
  {
   "cell_type": "markdown",
   "metadata": {},
   "source": [
    "# Import libraries \n"
   ]
  },
  {
   "cell_type": "code",
   "execution_count": 1,
   "metadata": {},
   "outputs": [],
   "source": [
    "# from glob import glob\n",
    "\n",
    "# import pandas as pd\n",
    "# import seaborn as sns\n",
    "# import matplotlib.pyplot as plt\n",
    "# from category_encoders import OneHotEncoder\n",
    "# from IPython.display import VimeoVideo\n",
    "# from ipywidgets import Dropdown, FloatSlider, IntSlider, interact\n",
    "# from sklearn.impute import SimpleImputer\n",
    "# from sklearn.linear_model import LinearRegression, Ridge  # noqa F401\n",
    "# from sklearn.metrics import mean_absolute_error\n",
    "# from sklearn.pipeline import make_pipeline\n",
    "# from sklearn.utils.validation import check_is_fitted"
   ]
  },
  {
   "cell_type": "markdown",
   "metadata": {},
   "source": [
    "# Import Dataset"
   ]
  },
  {
   "cell_type": "code",
   "execution_count": 2,
   "metadata": {},
   "outputs": [],
   "source": [
    "# df = pd.read_csv(\"data/mexico-city-real-estate-1.csv\")\n",
    "# df.info()"
   ]
  },
  {
   "cell_type": "markdown",
   "metadata": {},
   "source": [
    "# Mask for specific Data"
   ]
  },
  {
   "cell_type": "code",
   "execution_count": 3,
   "metadata": {},
   "outputs": [],
   "source": [
    "# # Subset data: Apartments in \"Distrito Federal\", less than 100,000\n",
    "# mask_ba = df[\"place_with_parent_names\"].str.contains(\"Distrito Federal\")\n",
    "# mask_apt = df[\"property_type\"] == \"apartment\"\n",
    "# mask_price = df[\"price_aprox_usd\"] < 100_000\n",
    "# df = df[mask_ba & mask_apt & mask_price]\n",
    "# df.head()"
   ]
  },
  {
   "cell_type": "markdown",
   "metadata": {},
   "source": [
    "# Remove Outliers"
   ]
  },
  {
   "cell_type": "code",
   "execution_count": 4,
   "metadata": {},
   "outputs": [],
   "source": [
    "# # Subset data: Remove outliers for \"surface_covered_in_m2\"\n",
    "# low, high = df[\"surface_covered_in_m2\"].quantile([0.1, 0.9])\n",
    "# mask_area = df[\"surface_covered_in_m2\"].between(low, high)\n",
    "# df = df[mask_area]\n",
    "# df.info()"
   ]
  },
  {
   "cell_type": "markdown",
   "metadata": {},
   "source": [
    "# Split one column into multiple columns"
   ]
  },
  {
   "cell_type": "code",
   "execution_count": 5,
   "metadata": {},
   "outputs": [],
   "source": [
    "# # Split \"lat-lon\" column\n",
    "# df[[\"lat\", \"lon\"]] = df[\"lat-lon\"].str.split(\",\", expand=True).astype(float)\n",
    "# df.drop(columns=\"lat-lon\", inplace=True)\n",
    "# df.head()"
   ]
  },
  {
   "cell_type": "markdown",
   "metadata": {},
   "source": [
    "# Take a splitted portion from a column"
   ]
  },
  {
   "cell_type": "code",
   "execution_count": 6,
   "metadata": {},
   "outputs": [],
   "source": [
    "# # Get place name\n",
    "# df[\"borough\"] = df[\"place_with_parent_names\"].str.split(\"|\", expand=True)[1]\n",
    "# df.drop(columns=\"place_with_parent_names\", inplace=True)\n",
    "# df.head()"
   ]
  },
  {
   "cell_type": "markdown",
   "metadata": {},
   "source": [
    "# See percentage of null entries"
   ]
  },
  {
   "cell_type": "markdown",
   "metadata": {},
   "source": [
    "- Drop features with more than 50% missing values"
   ]
  },
  {
   "cell_type": "code",
   "execution_count": 7,
   "metadata": {},
   "outputs": [],
   "source": [
    "# print(df.isnull().sum()/len(df))\n",
    "\n",
    "# # Drop features with more than 50% missing values\n",
    "# df.drop(columns=[\"surface_total_in_m2\", \"price_usd_per_m2\", \"floor\",\"rooms\",\"expenses\"],inplace = True)"
   ]
  },
  {
   "cell_type": "markdown",
   "metadata": {},
   "source": [
    "# See all counts of features with categories"
   ]
  },
  {
   "cell_type": "code",
   "execution_count": 8,
   "metadata": {},
   "outputs": [],
   "source": [
    "# print(len(df))\n",
    "# df.select_dtypes(\"object\").nunique()\n",
    "\n",
    "# # Drop features with low and high cardinality\n",
    "# df.drop(columns=[\"operation\", \"property_type\", \"currency\", \"properati_url\"],inplace = True)"
   ]
  },
  {
   "cell_type": "markdown",
   "metadata": {},
   "source": [
    "# Drop features that relay same information"
   ]
  },
  {
   "cell_type": "code",
   "execution_count": 9,
   "metadata": {},
   "outputs": [],
   "source": [
    "# print(sorted(df.columns))\n",
    "\n",
    "# # Drop leaky features that helps the model cheat\n",
    "# df.drop(columns=['price_aprox_local_currency', 'price', 'price_per_m2'],inplace = True)    "
   ]
  },
  {
   "cell_type": "markdown",
   "metadata": {},
   "source": [
    "# See Features with multi-collinearity"
   ]
  },
  {
   "cell_type": "code",
   "execution_count": 10,
   "metadata": {},
   "outputs": [],
   "source": [
    "# corr = df.corr()\n",
    "# sns.heatmap(corr)\n",
    "\n",
    "# # Drop features with multi-collinearity\n",
    "# # df.drop(columns=['surface_covered_in_m2'],inplace = True)\n",
    "\n",
    "# corr = df.corr()\n",
    "# sns.heatmap(corr)"
   ]
  },
  {
   "cell_type": "markdown",
   "metadata": {},
   "source": [
    "# Put Everything inside Wrangle Function"
   ]
  },
  {
   "cell_type": "code",
   "execution_count": 11,
   "metadata": {},
   "outputs": [],
   "source": [
    "# # Build your `wrangle` function\n",
    "# def wrangle(filepath):\n",
    "#     # Read CSV file\n",
    "#     df = pd.read_csv(filepath)\n",
    "\n",
    "#     # Subset data: Apartments in \"Distrito Federal\", less than 100,000\n",
    "#     mask_ba = df[\"place_with_parent_names\"].str.contains(\"Distrito Federal\")\n",
    "#     mask_apt = df[\"property_type\"] == \"apartment\"\n",
    "#     mask_price = df[\"price_aprox_usd\"] < 100_000\n",
    "#     df = df[mask_ba & mask_apt & mask_price]\n",
    "\n",
    "#     # Subset data: Remove outliers for \"surface_covered_in_m2\"\n",
    "#     low, high = df[\"surface_covered_in_m2\"].quantile([0.1, 0.9])\n",
    "#     mask_area = df[\"surface_covered_in_m2\"].between(low, high)\n",
    "#     df = df[mask_area]\n",
    "\n",
    "#     # Split \"lat-lon\" column\n",
    "#     df[[\"lat\", \"lon\"]] = df[\"lat-lon\"].str.split(\",\", expand=True).astype(float)\n",
    "#     df.drop(columns=\"lat-lon\", inplace=True)\n",
    "\n",
    "#     # Get borough name\n",
    "#     df[\"borough\"] = df[\"place_with_parent_names\"].str.split(\"|\", expand=True)[1]\n",
    "#     df.drop(columns=\"place_with_parent_names\", inplace=True)\n",
    "\n",
    "    \n",
    "#     # Drop features with more than 50% missing values\n",
    "#     df.drop(columns=[\"surface_total_in_m2\", \"price_usd_per_m2\", \"floor\",\"rooms\",\"expenses\"],inplace = True)\n",
    "    \n",
    "#     # Drop features with low and high cardinality\n",
    "#     df.drop(columns=[\"operation\", \"property_type\", \"currency\", \"properati_url\"],inplace = True)\n",
    "    \n",
    "#     # Drop leaky features that helps the model cheat\n",
    "#     df.drop(columns=['price_aprox_local_currency', 'price', 'price_per_m2'],inplace = True)  \n",
    "\n",
    "#     # Drop features with multi-collinearity\n",
    "# #     df.drop(columns=['surface_covered_in_m2'],inplace = True)\n",
    "    \n",
    "#     return df\n",
    "\n",
    "# # frames = [wrangle(file) for file in files]\n",
    "\n",
    "# # df = pd.concat(frames, ignore_index=True)\n",
    "# # print(df.info())\n",
    "# # df.head()"
   ]
  },
  {
   "cell_type": "markdown",
   "metadata": {},
   "source": [
    "# Use wrangle Function on dataset"
   ]
  },
  {
   "cell_type": "code",
   "execution_count": 12,
   "metadata": {},
   "outputs": [],
   "source": [
    "# # Use this cell to test your wrangle function and explore the data\n",
    "# df = wrangle(\"data/mexico-city-real-estate-1.csv\")\n",
    "# print(df.info())\n",
    "# df.head()"
   ]
  },
  {
   "cell_type": "code",
   "execution_count": 13,
   "metadata": {},
   "outputs": [],
   "source": [
    "# files = glob(\"data/mexico-city-real-estate-*.csv\")\n",
    "# files"
   ]
  },
  {
   "cell_type": "markdown",
   "metadata": {},
   "source": [
    "# Stack Dataset ignoring index"
   ]
  },
  {
   "cell_type": "code",
   "execution_count": 14,
   "metadata": {},
   "outputs": [],
   "source": [
    "# df = pd.concat([wrangle(file) for file in files], ignore_index=True)\n",
    "# print(df.info())\n",
    "# df.head()"
   ]
  },
  {
   "cell_type": "markdown",
   "metadata": {},
   "source": [
    "# See distribution with histogram"
   ]
  },
  {
   "cell_type": "code",
   "execution_count": 15,
   "metadata": {},
   "outputs": [],
   "source": [
    "# # Plot distribution of price\n",
    "# df[\"price_aprox_usd\"].hist()\n",
    "# plt.xlabel(\"Area [sq meters]\")\n",
    "# plt.ylabel(\"Count\")\n",
    "# plt.title(\"Distribution of Apartment Prices\")\n",
    "\n",
    "# # Don't delete the code below 👇\n",
    "# plt.savefig(\"images/2-5-4.png\", dpi=150)\n"
   ]
  },
  {
   "cell_type": "markdown",
   "metadata": {},
   "source": [
    "# See relationships with Scatterplot"
   ]
  },
  {
   "cell_type": "code",
   "execution_count": 16,
   "metadata": {},
   "outputs": [],
   "source": [
    "# # Plot price vs area\n",
    "# plt.scatter(df[\"surface_covered_in_m2\"], df[\"price_aprox_usd\"])\n",
    "# plt.xlabel(\"Area [sq meters]\")\n",
    "# plt.ylabel(\"Price [USD]\")\n",
    "# plt.title(\"Mexico City: Price vs. Area\")\n",
    "# # Don't delete the code below 👇\n",
    "# plt.savefig(\"images/2-5-5.png\", dpi=150)\n"
   ]
  },
  {
   "cell_type": "markdown",
   "metadata": {},
   "source": [
    "# Split training and testing data"
   ]
  },
  {
   "cell_type": "code",
   "execution_count": 17,
   "metadata": {},
   "outputs": [],
   "source": [
    "# # Split data into feature matrix `X_train` and target vector `y_train`.\n",
    "# print(df.columns)\n",
    "# X_train = df.drop(columns = [\"price_aprox_usd\"])\n",
    "# y_train = df[\"price_aprox_usd\"]\n",
    "# print(X_train.shape)\n",
    "# print(y_train.shape)"
   ]
  },
  {
   "cell_type": "markdown",
   "metadata": {},
   "source": [
    "# Create Baseline Model"
   ]
  },
  {
   "cell_type": "code",
   "execution_count": 1,
   "metadata": {},
   "outputs": [],
   "source": [
    "# y_mean = y_train.mean()\n",
    "# y_pred_baseline = [y_mean] * len(y_train)\n"
   ]
  },
  {
   "cell_type": "markdown",
   "metadata": {},
   "source": [
    "# Evaluate Baseline Model"
   ]
  },
  {
   "cell_type": "code",
   "execution_count": 2,
   "metadata": {},
   "outputs": [],
   "source": [
    "# baseline_mae = mean_absolute_error(y_train, y_pred_baseline)\n",
    "# print(\"Mean apt price:\", y_mean)\n",
    "# print(\"Baseline MAE:\", baseline_mae)"
   ]
  },
  {
   "cell_type": "markdown",
   "metadata": {},
   "source": [
    "# Create a model"
   ]
  },
  {
   "cell_type": "code",
   "execution_count": 19,
   "metadata": {},
   "outputs": [],
   "source": [
    "# \n",
    "# # Build Model\n",
    "# model = make_pipeline(\n",
    "#     OneHotEncoder(),\n",
    "#     SimpleImputer(),\n",
    "#     Ridge()\n",
    "# )\n",
    "# # Fit model\n",
    "# model.fit(X_train, y_train)"
   ]
  },
  {
   "cell_type": "code",
   "execution_count": 20,
   "metadata": {},
   "outputs": [],
   "source": [
    "# X_test = pd.read_csv(\"data/mexico-city-test-features.csv\")\n",
    "# print(X_test.info())\n",
    "# X_test.head()"
   ]
  },
  {
   "cell_type": "markdown",
   "metadata": {},
   "source": [
    "# Predict with the Model"
   ]
  },
  {
   "cell_type": "code",
   "execution_count": 21,
   "metadata": {},
   "outputs": [],
   "source": [
    "# y_test_pred = model.predict(X_test)\n",
    "# # pd.Series(y_test_pred).head()\n",
    "# y_test_pred = pd.Series(y_test_pred)"
   ]
  },
  {
   "cell_type": "markdown",
   "metadata": {},
   "source": [
    "# Extract Model Parameters: Intercept, Co-efficients, Features"
   ]
  },
  {
   "cell_type": "code",
   "execution_count": 22,
   "metadata": {},
   "outputs": [],
   "source": [
    "# intercept = model.named_steps[\"ridge\"].intercept_\n",
    "# coefficients = model.named_steps[\"ridge\"].coef_\n",
    "# features = model.named_steps[\"onehotencoder\"].get_feature_names()\n",
    "# feat_imp =  pd.Series(coefficients, index = features).sort_values(key=abs)\n",
    "# feat_imp"
   ]
  },
  {
   "cell_type": "markdown",
   "metadata": {},
   "source": [
    "# Visualize important features"
   ]
  },
  {
   "cell_type": "code",
   "execution_count": 23,
   "metadata": {},
   "outputs": [],
   "source": [
    "# # Create horizontal bar chart\n",
    "# feat_imp.sort_values(key=abs).tail(10).plot(kind = \"barh\")\n",
    "# plt.xlabel(\"Importance [USD]\")\n",
    "# plt.ylabel(\"Feature\")\n",
    "# plt.title(\"Feature Importances for Apartment Price\")\n",
    "# # Don't delete the code below 👇\n",
    "# plt.savefig(\"images/2-5-13.png\", dpi=150)\n"
   ]
  }
 ],
 "metadata": {
  "kernelspec": {
   "display_name": "Python 3.8.11 ('env_py')",
   "language": "python",
   "name": "python3"
  },
  "language_info": {
   "codemirror_mode": {
    "name": "ipython",
    "version": 3
   },
   "file_extension": ".py",
   "mimetype": "text/x-python",
   "name": "python",
   "nbconvert_exporter": "python",
   "pygments_lexer": "ipython3",
   "version": "3.8.11"
  },
  "orig_nbformat": 4,
  "vscode": {
   "interpreter": {
    "hash": "1e949e87132dd83f1a7623eb88007e3532b03b66b77111be347aa4a383049722"
   }
  }
 },
 "nbformat": 4,
 "nbformat_minor": 2
}
