{
 "cells": [
  {
   "cell_type": "markdown",
   "metadata": {},
   "source": [
    "<font size=\"+3\"><strong>Predicting Price with Location</strong></font>"
   ]
  },
  {
   "cell_type": "markdown",
   "metadata": {},
   "source": [
    "# Define the wrangle function"
   ]
  },
  {
   "cell_type": "markdown",
   "metadata": {},
   "source": [
    "- Masked dataset for specific category\n",
    "- Outlier free dataset\n",
    "- Dataset where a column contains specific string value (Masked)"
   ]
  },
  {
   "cell_type": "code",
   "execution_count": 1,
   "metadata": {},
   "outputs": [],
   "source": [
    "# def wrangle(filepath):\n",
    "#     # Read CSV file\n",
    "#     df = pd.read_csv(filepath)\n",
    "\n",
    "#     # Subset data: Apartments in \"Capital Federal\", less than 400,000\n",
    "#     mask_ba = df[\"place_with_parent_names\"].str.contains(\"Capital Federal\")\n",
    "#     mask_apt = df[\"property_type\"] == \"apartment\"\n",
    "#     mask_price = df[\"price_aprox_usd\"] < 400_000\n",
    "#     df = df[mask_ba & mask_apt & mask_price]\n",
    "\n",
    "#     # Subset data: Remove outliers for \"surface_covered_in_m2\"\n",
    "#     low, high = df[\"surface_covered_in_m2\"].quantile([0.1, 0.9])\n",
    "#     mask_area = df[\"surface_covered_in_m2\"].between(low, high)\n",
    "#     df = df[mask_area]\n",
    "\n",
    "#     return df"
   ]
  },
  {
   "cell_type": "markdown",
   "metadata": {},
   "source": [
    "# Investigate wrangle function with Dataset"
   ]
  },
  {
   "cell_type": "code",
   "execution_count": 2,
   "metadata": {},
   "outputs": [],
   "source": [
    "# frame1 = pd.read_csv(\"data/buenos-aires-real-estate-1.csv\")\n",
    "# print(frame1.info())\n",
    "# frame1.head()"
   ]
  },
  {
   "cell_type": "markdown",
   "metadata": {},
   "source": [
    "# Change Wrangle Function to split one column into two"
   ]
  },
  {
   "cell_type": "code",
   "execution_count": 3,
   "metadata": {},
   "outputs": [],
   "source": [
    "# def wrangle(filepath):\n",
    "#     # Read CSV file\n",
    "#     df = pd.read_csv(filepath)\n",
    "#     # Subset data: Apartments in \"Capital Federal\", less than 400,000\n",
    "#     mask_ba = df[\"place_with_parent_names\"].str.contains(\"Capital Federal\")\n",
    "#     mask_apt = df[\"property_type\"] == \"apartment\"\n",
    "#     mask_price = df[\"price_aprox_usd\"] < 400_000\n",
    "#     df = df[mask_ba & mask_apt & mask_price]\n",
    "\n",
    "#     # Subset data: Remove outliers for \"surface_covered_in_m2\"\n",
    "#     low, high = df[\"surface_covered_in_m2\"].quantile([0.1, 0.9])\n",
    "#     mask_area = df[\"surface_covered_in_m2\"].between(low, high)\n",
    "#     df = df[mask_area]\n",
    "#     df[[\"lat\",\"lon\"]] = df[\"lat-lon\"].str.split(\",\", expand = True).astype(float) # Columns created\n",
    "#     df.drop(columns = [\"lat-lon\"], inplace = True)\n",
    "\n",
    "#     return df\n"
   ]
  },
  {
   "cell_type": "markdown",
   "metadata": {},
   "source": [
    "# Investigate wrangle function with Dataset\n"
   ]
  },
  {
   "cell_type": "code",
   "execution_count": 4,
   "metadata": {},
   "outputs": [],
   "source": [
    "# frame1 = wrangle(\"data/buenos-aires-real-estate-1.csv\")\n",
    "# print(frame1.info())\n",
    "# # frame1.head()"
   ]
  },
  {
   "cell_type": "markdown",
   "metadata": {},
   "source": [
    "# Concatenate Multiple dataframes"
   ]
  },
  {
   "cell_type": "markdown",
   "metadata": {},
   "source": [
    "- ignore index while concatenating, because index from 2 different sources differs"
   ]
  },
  {
   "cell_type": "code",
   "execution_count": 6,
   "metadata": {},
   "outputs": [],
   "source": [
    "# df = pd.concat([frame1,frame2], ignore_index = True)\n",
    "# print(df.info())\n",
    "# df.head()"
   ]
  },
  {
   "cell_type": "markdown",
   "metadata": {},
   "source": [
    "# Create map with dataframe"
   ]
  },
  {
   "cell_type": "code",
   "execution_count": 7,
   "metadata": {},
   "outputs": [],
   "source": [
    "# fig = px.scatter_mapbox(\n",
    "#     df,  # Our DataFrame\n",
    "#     lat=\"lat\",\n",
    "#     lon=\"lon\",\n",
    "#     width=600,  # Width of map\n",
    "#     height=600,  # Height of map\n",
    "#     color=\"price_aprox_usd\",\n",
    "#     hover_data=[\"price_aprox_usd\"],  # Display price when hovering mouse over house\n",
    "# )\n",
    "\n",
    "# fig.update_layout(mapbox_style=\"open-street-map\")\n",
    "\n",
    "# fig.show()"
   ]
  },
  {
   "cell_type": "markdown",
   "metadata": {},
   "source": [
    "# Create 3D Plot with dataset"
   ]
  },
  {
   "cell_type": "code",
   "execution_count": 8,
   "metadata": {},
   "outputs": [],
   "source": [
    "# # Create 3D scatter plot\n",
    "# fig = px.scatter_3d(\n",
    "#     df,\n",
    "#     x= \"lon\",\n",
    "#     y= \"lat\",\n",
    "#     z= \"price_aprox_usd\",\n",
    "#     labels={\"lon\": \"longitude\", \"lat\": \"latitude\", \"price_aprox_usd\": \"price\"},\n",
    "#     width=600,\n",
    "#     height=500,\n",
    "# )\n",
    "\n",
    "# # Refine formatting\n",
    "# fig.update_traces(\n",
    "#     marker={\"size\": 4, \"line\": {\"width\": 2, \"color\": \"DarkSlateGrey\"}},\n",
    "#     selector={\"mode\": \"markers\"},\n",
    "# )\n",
    "\n",
    "# # Display figure\n",
    "# fig.show()"
   ]
  },
  {
   "cell_type": "markdown",
   "metadata": {},
   "source": [
    "# Select Training and Target Features "
   ]
  },
  {
   "cell_type": "code",
   "execution_count": 9,
   "metadata": {},
   "outputs": [],
   "source": [
    "# features = [\"lon\", \"lat\"]\n",
    "# X_train = df[features]\n",
    "# X_train.shape"
   ]
  },
  {
   "cell_type": "code",
   "execution_count": 1,
   "metadata": {},
   "outputs": [],
   "source": [
    "# target = \"price_aprox_usd\"\n",
    "# y_train = df[target]\n",
    "# y_train.shape"
   ]
  },
  {
   "cell_type": "markdown",
   "metadata": {},
   "source": [
    "### Calculate Y for Baseline Model\n"
   ]
  },
  {
   "cell_type": "markdown",
   "metadata": {},
   "source": [
    "- Baseline model is random chance = Mean from training feature for all entries in the target feature.\n"
   ]
  },
  {
   "cell_type": "code",
   "execution_count": 12,
   "metadata": {},
   "outputs": [],
   "source": [
    "# y_mean = y_train.mean()\n",
    "# y_mean\n",
    "\n",
    "# y_pred_baseline = [y_mean]*len(y_train)\n",
    "# len(y_pred_baseline)"
   ]
  },
  {
   "cell_type": "markdown",
   "metadata": {},
   "source": [
    "# Evaluate Baseline Model"
   ]
  },
  {
   "cell_type": "code",
   "execution_count": 13,
   "metadata": {},
   "outputs": [],
   "source": [
    "# mae_baseline = mean_absolute_error(y_train, y_pred_baseline)\n",
    "\n",
    "# print(\"Mean apt price\", round(y_mean, 2))\n",
    "# print(\"Baseline MAE:\", round(mae_baseline, 2))"
   ]
  },
  {
   "cell_type": "markdown",
   "metadata": {},
   "source": [
    "# Impute missing values"
   ]
  },
  {
   "cell_type": "markdown",
   "metadata": {},
   "source": [
    "- This is a kind of transfomation"
   ]
  },
  {
   "cell_type": "code",
   "execution_count": 14,
   "metadata": {},
   "outputs": [],
   "source": [
    "# imputer = SimpleImputer()\n",
    "\n",
    "# imputer.fit(X_train)\n",
    "# XT_train = imputer.transform(X_train)\n"
   ]
  },
  {
   "cell_type": "markdown",
   "metadata": {},
   "source": [
    "# Make Model Pipeline"
   ]
  },
  {
   "cell_type": "code",
   "execution_count": 17,
   "metadata": {},
   "outputs": [],
   "source": [
    "# model = make_pipeline(\n",
    "#     SimpleImputer(),\n",
    "#     LinearRegression()\n",
    "# )\n",
    "\n",
    "# model.fit(X_train, y_train)"
   ]
  },
  {
   "cell_type": "markdown",
   "metadata": {},
   "source": [
    "### Predict Y for New Model\n"
   ]
  },
  {
   "cell_type": "code",
   "execution_count": 18,
   "metadata": {},
   "outputs": [],
   "source": [
    "# y_pred_training = model.predict(X_train)"
   ]
  },
  {
   "cell_type": "markdown",
   "metadata": {},
   "source": [
    "### Evaluate the New Model"
   ]
  },
  {
   "cell_type": "code",
   "execution_count": 19,
   "metadata": {},
   "outputs": [],
   "source": [
    "# mae_training = mean_absolute_error(y_train, y_pred_training)\n",
    "# print(\"Training MAE:\", round(mae_training, 2))"
   ]
  },
  {
   "cell_type": "markdown",
   "metadata": {},
   "source": [
    "# Make a series out of predicted Y"
   ]
  },
  {
   "cell_type": "code",
   "execution_count": 20,
   "metadata": {},
   "outputs": [],
   "source": [
    "# X_test = pd.read_csv(\"data/buenos-aires-test-features.csv\")[features]\n",
    "# y_pred_test = pd.Series(model.predict(X_test))\n",
    "# y_pred_test.head()"
   ]
  },
  {
   "cell_type": "markdown",
   "metadata": {},
   "source": [
    "### Take Intercept and Co-efficients and generate equations"
   ]
  },
  {
   "cell_type": "code",
   "execution_count": 22,
   "metadata": {},
   "outputs": [],
   "source": [
    "# intercept = model.named_steps[\"linearregression\"].intercept_.round(0)\n",
    "# coefficients = model.named_steps[\"linearregression\"].coef_.round(0)\n",
    "# print(intercept, coefficients)\n",
    "\n",
    "# print(f\"price = {intercept} + ({coefficients[0]} * longitude) + ({coefficients[1]} * latitude)\")"
   ]
  },
  {
   "cell_type": "markdown",
   "metadata": {},
   "source": [
    "# Create 3D Scatterplot"
   ]
  },
  {
   "cell_type": "code",
   "execution_count": 23,
   "metadata": {},
   "outputs": [],
   "source": [
    "# # Create 3D scatter plot\n",
    "# fig = px.scatter_3d(\n",
    "#     df,\n",
    "#     x= \"lon\" ,\n",
    "#     y= \"lat\" ,\n",
    "#     z= \"price_aprox_usd\" ,\n",
    "#     labels={\"lon\": \"longitude\", \"lat\": \"latitude\", \"price_aprox_usd\": \"price\"},\n",
    "#     width=600,\n",
    "#     height=500,\n",
    "# )\n",
    "\n",
    "# # Create x and y coordinates for model representation\n",
    "# x_plane = np.linspace(df[\"lon\"].min(), df[\"lon\"].max(), 10)\n",
    "# y_plane = np.linspace(df[\"lat\"].min(), df[\"lat\"].max(), 10)\n",
    "# xx, yy = np.meshgrid(x_plane, y_plane)\n",
    "\n",
    "# # Use model to predict z coordinates\n",
    "# z_plane = model.predict(pd.DataFrame({\"lon\": x_plane, \"lat\": y_plane}))\n",
    "# zz = np.tile(z_plane, (10, 1))\n",
    "\n",
    "# # Add plane to figure\n",
    "# fig.add_trace(go.Surface(x=xx, y=yy, z=zz))\n",
    "\n",
    "# # Refine formatting\n",
    "# fig.update_traces(\n",
    "#     marker={\"size\": 4, \"line\": {\"width\": 2, \"color\": \"DarkSlateGrey\"}},\n",
    "#     selector={\"mode\": \"markers\"},\n",
    "# )\n",
    "\n",
    "# # Display figure\n",
    "# fig.show()"
   ]
  }
 ],
 "metadata": {
  "kernelspec": {
   "display_name": "Python 3.8.11 ('env_py')",
   "language": "python",
   "name": "python3"
  },
  "language_info": {
   "codemirror_mode": {
    "name": "ipython",
    "version": 3
   },
   "file_extension": ".py",
   "mimetype": "text/x-python",
   "name": "python",
   "nbconvert_exporter": "python",
   "pygments_lexer": "ipython3",
   "version": "3.8.11"
  },
  "orig_nbformat": 4,
  "vscode": {
   "interpreter": {
    "hash": "1e949e87132dd83f1a7623eb88007e3532b03b66b77111be347aa4a383049722"
   }
  }
 },
 "nbformat": 4,
 "nbformat_minor": 2
}
