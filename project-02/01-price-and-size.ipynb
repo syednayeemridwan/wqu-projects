{
 "cells": [
  {
   "cell_type": "markdown",
   "metadata": {},
   "source": [
    "<font size=\"+3\"><strong>Predicting Price with Size</strong></font>"
   ]
  },
  {
   "cell_type": "markdown",
   "metadata": {},
   "source": [
    "# Prepare Data"
   ]
  },
  {
   "cell_type": "markdown",
   "metadata": {},
   "source": [
    "### Initial Wrangle Function"
   ]
  },
  {
   "cell_type": "markdown",
   "metadata": {},
   "source": [
    "- Just load the dataset"
   ]
  },
  {
   "cell_type": "code",
   "execution_count": 1,
   "metadata": {},
   "outputs": [],
   "source": [
    "# def wrangle(filepath):\n",
    "#     df = pd.read_csv(filepath)\n",
    "#     return df"
   ]
  },
  {
   "cell_type": "markdown",
   "metadata": {},
   "source": [
    "### Investigate Dataframe"
   ]
  },
  {
   "cell_type": "code",
   "execution_count": 3,
   "metadata": {},
   "outputs": [],
   "source": [
    "# df = wrangle(\"data/buenos-aires-real-estate-1.csv\")\n",
    "# print(\"df shape:\", df.shape)\n",
    "# df.head()\n",
    "# print(df.columns)"
   ]
  },
  {
   "cell_type": "markdown",
   "metadata": {},
   "source": [
    "### Change Wrangle function to subset dataframe"
   ]
  },
  {
   "cell_type": "code",
   "execution_count": 4,
   "metadata": {},
   "outputs": [],
   "source": [
    "# def new_wrangle(filepath):\n",
    "#     df = pd.read_csv(filepath)\n",
    "#     mask_cf = df['place_with_parent_names'].str.contains(\"Capital Federal\")\n",
    "#     mask_apt = df['property_type'] == 'apartment'\n",
    "#     mask_price = df['price_aprox_usd'] < 400_000\n",
    "    \n",
    "#     df=df[mask_cf & mask_apt & mask_price]\n",
    "#     return df"
   ]
  },
  {
   "cell_type": "markdown",
   "metadata": {},
   "source": [
    "### Verify the change"
   ]
  },
  {
   "cell_type": "code",
   "execution_count": 5,
   "metadata": {},
   "outputs": [],
   "source": [
    "# df = new_wrangle(\"data/buenos-aires-real-estate-1.csv\")\n",
    "# df.info()"
   ]
  },
  {
   "cell_type": "markdown",
   "metadata": {},
   "source": [
    "### Calculate Summary Statistics"
   ]
  },
  {
   "cell_type": "code",
   "execution_count": 8,
   "metadata": {},
   "outputs": [],
   "source": [
    "# df[\"surface_covered_in_m2\"].describe()"
   ]
  },
  {
   "cell_type": "markdown",
   "metadata": {},
   "source": [
    "### Visualize Distribution with Histogram"
   ]
  },
  {
   "cell_type": "code",
   "execution_count": 6,
   "metadata": {},
   "outputs": [],
   "source": [
    "# plt.hist(df[\"surface_covered_in_m2\"])\n",
    "# plt.xlabel(\"Area [sq meters]\")\n",
    "# plt.title(\"Distribution of Apartment Sizes\");"
   ]
  },
  {
   "cell_type": "markdown",
   "metadata": {},
   "source": [
    "### Visualize Distribution with Boxplot\n"
   ]
  },
  {
   "cell_type": "markdown",
   "metadata": {},
   "source": [
    "- To find outlier"
   ]
  },
  {
   "cell_type": "code",
   "execution_count": 7,
   "metadata": {},
   "outputs": [],
   "source": [
    "# plt.boxplot(df[\"surface_covered_in_m2\"],vert = False)\n",
    "# plt.xlabel(\"Area [sq meters]\")\n",
    "# plt.title(\"Distribution of Apartment Sizes\");"
   ]
  },
  {
   "cell_type": "markdown",
   "metadata": {},
   "source": [
    "### Change Wrangle Function to remove outliers"
   ]
  },
  {
   "cell_type": "code",
   "execution_count": 9,
   "metadata": {},
   "outputs": [],
   "source": [
    "# def wrangle2(filepath):\n",
    "#     df = pd.read_csv(filepath)\n",
    "#     mask_cf = df['place_with_parent_names'].str.contains(\"Capital Federal\")\n",
    "#     mask_apt = df['property_type'] == 'apartment'\n",
    "#     mask_price = df['price_aprox_usd'] < 400_000\n",
    "#     low, high = df['surface_covered_in_m2'].quantile([0.1,0.68])\n",
    "#     print(low)\n",
    "#     print(high)\n",
    "#     mask_area = df['surface_covered_in_m2'].between( low, high )\n",
    "#     df=df[mask_cf & mask_apt & mask_price & mask_area]\n",
    "# #     df = df[mask_area]\n",
    "#     return df\n",
    "\n",
    "# df = wrangle2(\"data/buenos-aires-real-estate-1.csv\")\n",
    "# print(df.shape)"
   ]
  },
  {
   "cell_type": "markdown",
   "metadata": {},
   "source": [
    "### Visualize New data with scatterplot"
   ]
  },
  {
   "cell_type": "markdown",
   "metadata": {},
   "source": [
    "- To visualize correlated patterns"
   ]
  },
  {
   "cell_type": "code",
   "execution_count": 10,
   "metadata": {},
   "outputs": [],
   "source": [
    "# plt.scatter(x = df[\"price_aprox_usd\"], y = df[\"surface_covered_in_m2\"])\n",
    "# plt.xlabel(\"Area [sq meters]\")\n",
    "# plt.ylabel(\"Price [USD]\")\n",
    "# plt.title(\"Price [USD] vs Area [sq meters]\");"
   ]
  },
  {
   "cell_type": "markdown",
   "metadata": {},
   "source": [
    "### Choose Training and Target Features"
   ]
  },
  {
   "cell_type": "code",
   "execution_count": 11,
   "metadata": {},
   "outputs": [],
   "source": [
    "# features = [\"surface_covered_in_m2\"]\n",
    "# X_train = df[features]\n",
    "# X_train.shape"
   ]
  },
  {
   "cell_type": "code",
   "execution_count": 12,
   "metadata": {},
   "outputs": [],
   "source": [
    "# target = \"price_aprox_usd\"\n",
    "# y_train = df[target]\n",
    "# y_train.shape"
   ]
  },
  {
   "cell_type": "markdown",
   "metadata": {},
   "source": [
    "### Calculate Y for Baseline Model"
   ]
  },
  {
   "cell_type": "markdown",
   "metadata": {},
   "source": [
    "- Baseline Model = Naive Model\n",
    "- All y have same value in baseline model.\n",
    "- Baseline model is random chance = Mean from training feature for all entries in the target feature."
   ]
  },
  {
   "cell_type": "code",
   "execution_count": 14,
   "metadata": {},
   "outputs": [],
   "source": [
    "# y_mean = y_train.mean()\n",
    "# y_mean\n",
    "\n",
    "# y_pred_baseline = [y_mean] * len(y_train)\n",
    "# len(y_pred_baseline)"
   ]
  },
  {
   "cell_type": "markdown",
   "metadata": {},
   "source": [
    "### Plot Baseline Model"
   ]
  },
  {
   "cell_type": "code",
   "execution_count": 15,
   "metadata": {},
   "outputs": [],
   "source": [
    "# plt.plot(X_train, y_pred_baseline, color = \"orange\", label = \"Baseline Model\")\n",
    "# plt.scatter(X_train, y_train, label = \"Real Data\")\n",
    "# plt.xlabel(\"Area [sq meters]\")\n",
    "# plt.ylabel(\"Price [USD]\")\n",
    "# plt.title(\"Buenos Aires: Price vs. Area\")\n",
    "# plt.legend();"
   ]
  },
  {
   "cell_type": "markdown",
   "metadata": {},
   "source": [
    "### Evaluate Baseline Model"
   ]
  },
  {
   "cell_type": "code",
   "execution_count": 16,
   "metadata": {},
   "outputs": [],
   "source": [
    "# mae_baseline = abs(y_train - y_mean).mean()\n",
    "\n",
    "# print(\"Mean apt price\", round(y_mean, 2))\n",
    "# print(\"Baseline MAE:\", round(mae_baseline, 2))"
   ]
  },
  {
   "cell_type": "markdown",
   "metadata": {},
   "source": [
    "### Create A Better Model "
   ]
  },
  {
   "cell_type": "code",
   "execution_count": 1,
   "metadata": {},
   "outputs": [],
   "source": [
    "# model = LinearRegression()\n",
    "\n",
    "# model.fit(X_train, y_train)"
   ]
  },
  {
   "cell_type": "markdown",
   "metadata": {},
   "source": [
    "### Predict Y for New Model"
   ]
  },
  {
   "cell_type": "code",
   "execution_count": 2,
   "metadata": {},
   "outputs": [],
   "source": [
    "# y_pred_training = model.predict(X_train)\n",
    "# y_pred_training[:5]"
   ]
  },
  {
   "cell_type": "markdown",
   "metadata": {},
   "source": [
    "### Evaluate the New Model"
   ]
  },
  {
   "cell_type": "code",
   "execution_count": 3,
   "metadata": {},
   "outputs": [],
   "source": [
    "# mae_training = mean_absolute_error(y_train , y_pred_training)\n",
    "# print(\"Training MAE:\", round(mae_training, 2))\n"
   ]
  },
  {
   "cell_type": "markdown",
   "metadata": {},
   "source": [
    "# Make a series out of predicted Y"
   ]
  },
  {
   "cell_type": "code",
   "execution_count": 4,
   "metadata": {},
   "outputs": [],
   "source": [
    "# X_test = pd.read_csv(\"data/buenos-aires-test-features.csv\")[features]\n",
    "# y_pred_test = pd.Series(model.predict(X_test))\n",
    "# y_pred_test.head()"
   ]
  },
  {
   "cell_type": "markdown",
   "metadata": {},
   "source": [
    "### Take Intercept and Co-efficients and generate equations"
   ]
  },
  {
   "cell_type": "code",
   "execution_count": 3,
   "metadata": {},
   "outputs": [],
   "source": [
    "# intercept = model.intercept_\n",
    "# print(\"Model Intercept:\", intercept)\n",
    "\n",
    "# coefficient = round(model.coef_[0],2)\n",
    "# print('Model coefficient for \"surface_covered_in_m2\":', coefficient)\n",
    "\n",
    "# print(f\"apt_price = {intercept} + {coefficient} * surface_covered_as_slope\")"
   ]
  },
  {
   "cell_type": "markdown",
   "metadata": {},
   "source": [
    "### Plot the models on Training Set"
   ]
  },
  {
   "cell_type": "code",
   "execution_count": 21,
   "metadata": {},
   "outputs": [],
   "source": [
    "# plt.plot(X_train, y_pred_training, color = \"black\" , label = \"Linear Model\")\n",
    "# plt.plot(X_train, y_pred_baseline, color = \"orange\" , label = \"Naive Model\")\n",
    "# plt.scatter(X_train, y_train, label = \"Real Data\" )\n",
    "# plt.xlabel(\"surface covered [sq meters]\")\n",
    "# plt.ylabel(\"price [usd]\")\n",
    "# plt.legend();"
   ]
  }
 ],
 "metadata": {
  "kernelspec": {
   "display_name": "Python 3.8.3 ('base')",
   "language": "python",
   "name": "python3"
  },
  "language_info": {
   "codemirror_mode": {
    "name": "ipython",
    "version": 3
   },
   "file_extension": ".py",
   "mimetype": "text/x-python",
   "name": "python",
   "nbconvert_exporter": "python",
   "pygments_lexer": "ipython3",
   "version": "3.8.3"
  },
  "orig_nbformat": 4,
  "vscode": {
   "interpreter": {
    "hash": "dc575bfddb5c8ca4bb6a4f4dcdd32abc104b5fa4177361381c432fff36ce3e46"
   }
  }
 },
 "nbformat": 4,
 "nbformat_minor": 2
}
