{
 "cells": [
  {
   "cell_type": "markdown",
   "metadata": {},
   "source": [
    "<font size=\"+3\"><strong>Predicting Price with Size, Location, and Neighborhood</strong></font>"
   ]
  },
  {
   "cell_type": "markdown",
   "metadata": {},
   "source": [
    "# Define Wrangle Function\n"
   ]
  },
  {
   "cell_type": "markdown",
   "metadata": {},
   "source": [
    "- Masked dataset for specific category\n",
    "- Outlier free dataset\n",
    "- Dataset where a column contains specific string value (Masked)\n",
    "- Single column expanded to multiple columns\n",
    "- Dropped duplicate columns\n",
    "- Take a portion of a column's string value to create a new column"
   ]
  },
  {
   "cell_type": "code",
   "execution_count": 1,
   "metadata": {},
   "outputs": [],
   "source": [
    "# def wrangle(filepath):\n",
    "#     # Read CSV file\n",
    "#     df = pd.read_csv(filepath)\n",
    "\n",
    "#     # Subset data: Apartments in \"Capital Federal\", less than 400,000\n",
    "#     mask_ba = df[\"place_with_parent_names\"].str.contains(\"Capital Federal\")\n",
    "#     mask_apt = df[\"property_type\"] == \"apartment\"\n",
    "#     mask_price = df[\"price_aprox_usd\"] < 400_000\n",
    "#     df = df[mask_ba & mask_apt & mask_price]\n",
    "\n",
    "#     # Subset data: Remove outliers for \"surface_covered_in_m2\"\n",
    "#     low, high = df[\"surface_covered_in_m2\"].quantile([0.1, 0.9])\n",
    "#     mask_area = df[\"surface_covered_in_m2\"].between(low, high)\n",
    "#     df = df[mask_area]\n",
    "\n",
    "#     # Split \"lat-lon\" column\n",
    "#     df[[\"lat\", \"lon\"]] = df[\"lat-lon\"].str.split(\",\", expand=True).astype(float)\n",
    "#     df.drop(columns=\"lat-lon\", inplace=True)\n",
    "\n",
    "#     # Get place name\n",
    "#     df[\"neighborhood\"] = df[\"place_with_parent_names\"].str.split(\"|\", expand=True)[3]\n",
    "#     df.drop(columns=\"place_with_parent_names\", inplace=True)\n",
    "\n",
    "    \n",
    "#     return df"
   ]
  },
  {
   "cell_type": "markdown",
   "metadata": {},
   "source": [
    "# Take all files and merge them\n"
   ]
  },
  {
   "cell_type": "code",
   "execution_count": 2,
   "metadata": {},
   "outputs": [],
   "source": [
    "# files = glob(\"data/buenos-aires-real-estate-*.csv\")\n",
    "\n",
    "# frames = [wrangle(file) for file in files]\n",
    "# df = pd.concat(frames, ignore_index=True)\n",
    "# print(df.info())\n",
    "# df.head()"
   ]
  },
  {
   "cell_type": "markdown",
   "metadata": {},
   "source": [
    "# Check percentage of null entries"
   ]
  },
  {
   "cell_type": "markdown",
   "metadata": {},
   "source": [
    "- Total null counts / total row or value counts"
   ]
  },
  {
   "cell_type": "code",
   "execution_count": 3,
   "metadata": {},
   "outputs": [],
   "source": [
    "# df.isnull().sum()/len(df)"
   ]
  },
  {
   "cell_type": "markdown",
   "metadata": {},
   "source": [
    "# Change wrangle function that drops column with excessive null entries (>50%)"
   ]
  },
  {
   "cell_type": "code",
   "execution_count": 4,
   "metadata": {},
   "outputs": [],
   "source": [
    "# def wrangle(filepath):\n",
    "#     # Read CSV file\n",
    "#     df = pd.read_csv(filepath)\n",
    "\n",
    "#     # Subset data: Apartments in \"Capital Federal\", less than 400,000\n",
    "#     mask_ba = df[\"place_with_parent_names\"].str.contains(\"Capital Federal\")\n",
    "#     mask_apt = df[\"property_type\"] == \"apartment\"\n",
    "#     mask_price = df[\"price_aprox_usd\"] < 400_000\n",
    "#     df = df[mask_ba & mask_apt & mask_price]\n",
    "\n",
    "#     # Subset data: Remove outliers for \"surface_covered_in_m2\"\n",
    "#     low, high = df[\"surface_covered_in_m2\"].quantile([0.1, 0.9])\n",
    "#     mask_area = df[\"surface_covered_in_m2\"].between(low, high)\n",
    "#     df = df[mask_area]\n",
    "\n",
    "#     # Split \"lat-lon\" column\n",
    "#     df[[\"lat\", \"lon\"]] = df[\"lat-lon\"].str.split(\",\", expand=True).astype(float)\n",
    "#     df.drop(columns=\"lat-lon\", inplace=True)\n",
    "\n",
    "#     # Get place name\n",
    "#     df[\"neighborhood\"] = df[\"place_with_parent_names\"].str.split(\"|\", expand=True)[3]\n",
    "#     df.drop(columns=\"place_with_parent_names\", inplace=True)\n",
    "\n",
    "#     df.drop(columns=[\"floor\", \"expenses\"],inplace = True)\n",
    "#     return df\n",
    "\n",
    "# frames = [wrangle(file) for file in files]\n",
    "\n",
    "# df = pd.concat(frames, ignore_index=True)\n",
    "# print(df.info())\n",
    "# df.head()"
   ]
  },
  {
   "cell_type": "markdown",
   "metadata": {},
   "source": [
    "# Check unique values for categories"
   ]
  },
  {
   "cell_type": "code",
   "execution_count": 5,
   "metadata": {},
   "outputs": [],
   "source": [
    "# df.select_dtypes(\"object\").nunique()"
   ]
  },
  {
   "cell_type": "markdown",
   "metadata": {},
   "source": [
    "# Change Wrangle function to drop columns with too many or too few cardinality / unique categories"
   ]
  },
  {
   "cell_type": "code",
   "execution_count": 6,
   "metadata": {},
   "outputs": [],
   "source": [
    "# def wrangle(filepath):\n",
    "#     # Read CSV file\n",
    "#     df = pd.read_csv(filepath)\n",
    "\n",
    "#     # Subset data: Apartments in \"Capital Federal\", less than 400,000\n",
    "#     mask_ba = df[\"place_with_parent_names\"].str.contains(\"Capital Federal\")\n",
    "#     mask_apt = df[\"property_type\"] == \"apartment\"\n",
    "#     mask_price = df[\"price_aprox_usd\"] < 400_000\n",
    "#     df = df[mask_ba & mask_apt & mask_price]\n",
    "\n",
    "#     # Subset data: Remove outliers for \"surface_covered_in_m2\"\n",
    "#     low, high = df[\"surface_covered_in_m2\"].quantile([0.1, 0.9])\n",
    "#     mask_area = df[\"surface_covered_in_m2\"].between(low, high)\n",
    "#     df = df[mask_area]\n",
    "\n",
    "#     # Split \"lat-lon\" column\n",
    "#     df[[\"lat\", \"lon\"]] = df[\"lat-lon\"].str.split(\",\", expand=True).astype(float)\n",
    "#     df.drop(columns=\"lat-lon\", inplace=True)\n",
    "\n",
    "#     # Get place name\n",
    "#     df[\"neighborhood\"] = df[\"place_with_parent_names\"].str.split(\"|\", expand=True)[3]\n",
    "#     df.drop(columns=\"place_with_parent_names\", inplace=True)\n",
    "    \n",
    "#     # Drop features with more than 50% missing values\n",
    "#     df.drop(columns=[\"floor\", \"expenses\"],inplace = True)\n",
    "    \n",
    "#     # Drop features with low and high cardinality\n",
    "#     df.drop(columns=[\"operation\", \"property_type\", \"currency\", \"properati_url\"],inplace = True)\n",
    "#     return df\n",
    "\n",
    "# frames = [wrangle(file) for file in files]\n",
    "\n",
    "# df = pd.concat(frames, ignore_index=True)\n",
    "# print(df.info())\n",
    "# df.head()"
   ]
  },
  {
   "cell_type": "markdown",
   "metadata": {},
   "source": [
    "# Change Wrangle Function to Drop leaky features (features conveying same information)"
   ]
  },
  {
   "cell_type": "code",
   "execution_count": 7,
   "metadata": {},
   "outputs": [],
   "source": [
    "# def wrangle(filepath):\n",
    "#     # Read CSV file\n",
    "#     df = pd.read_csv(filepath)\n",
    "\n",
    "#     # Subset data: Apartments in \"Capital Federal\", less than 400,000\n",
    "#     mask_ba = df[\"place_with_parent_names\"].str.contains(\"Capital Federal\")\n",
    "#     mask_apt = df[\"property_type\"] == \"apartment\"\n",
    "#     mask_price = df[\"price_aprox_usd\"] < 400_000\n",
    "#     df = df[mask_ba & mask_apt & mask_price]\n",
    "\n",
    "#     # Subset data: Remove outliers for \"surface_covered_in_m2\"\n",
    "#     low, high = df[\"surface_covered_in_m2\"].quantile([0.1, 0.9])\n",
    "#     mask_area = df[\"surface_covered_in_m2\"].between(low, high)\n",
    "#     df = df[mask_area]\n",
    "\n",
    "#     # Split \"lat-lon\" column\n",
    "#     df[[\"lat\", \"lon\"]] = df[\"lat-lon\"].str.split(\",\", expand=True).astype(float)\n",
    "#     df.drop(columns=\"lat-lon\", inplace=True)\n",
    "\n",
    "#     # Get place name\n",
    "#     df[\"neighborhood\"] = df[\"place_with_parent_names\"].str.split(\"|\", expand=True)[3]\n",
    "#     df.drop(columns=\"place_with_parent_names\", inplace=True)\n",
    "    \n",
    "#     # Drop features with more than 50% missing values\n",
    "#     df.drop(columns=[\"floor\", \"expenses\"],inplace = True)\n",
    "    \n",
    "#     # Drop features with low and high cardinality\n",
    "#     df.drop(columns=[\"operation\", \"property_type\", \"currency\", \"properati_url\"],inplace = True)\n",
    "    \n",
    "#     # Drop leaky features that helps the model cheat\n",
    "#     df.drop(columns=['price_aprox_local_currency', 'price', 'price_per_m2', 'price_usd_per_m2'],inplace = True)\n",
    "    \n",
    "#     return df\n",
    "\n",
    "# frames = [wrangle(file) for file in files]\n",
    "\n",
    "# df = pd.concat(frames, ignore_index=True)\n",
    "# print(df.info())\n",
    "# df.head()"
   ]
  },
  {
   "cell_type": "markdown",
   "metadata": {},
   "source": [
    "# Check features with multi-collinearity"
   ]
  },
  {
   "cell_type": "markdown",
   "metadata": {},
   "source": [
    "- See heatmap to detect multi-collinearity\n",
    "- Only take features that do not produce high correlation values / light colors feature combinations"
   ]
  },
  {
   "cell_type": "code",
   "execution_count": 8,
   "metadata": {},
   "outputs": [],
   "source": [
    "# sns.heatmap(corr)"
   ]
  },
  {
   "cell_type": "markdown",
   "metadata": {},
   "source": [
    "# Change Wrangle function to drop features with multi-collinearity"
   ]
  },
  {
   "cell_type": "code",
   "execution_count": 9,
   "metadata": {},
   "outputs": [],
   "source": [
    "# def wrangle(filepath):\n",
    "#     # Read CSV file\n",
    "#     df = pd.read_csv(filepath)\n",
    "\n",
    "#     # Subset data: Apartments in \"Capital Federal\", less than 400,000\n",
    "#     mask_ba = df[\"place_with_parent_names\"].str.contains(\"Capital Federal\")\n",
    "#     mask_apt = df[\"property_type\"] == \"apartment\"\n",
    "#     mask_price = df[\"price_aprox_usd\"] < 400_000\n",
    "#     df = df[mask_ba & mask_apt & mask_price]\n",
    "\n",
    "#     # Subset data: Remove outliers for \"surface_covered_in_m2\"\n",
    "#     low, high = df[\"surface_covered_in_m2\"].quantile([0.1, 0.9])\n",
    "#     mask_area = df[\"surface_covered_in_m2\"].between(low, high)\n",
    "#     df = df[mask_area]\n",
    "\n",
    "#     # Split \"lat-lon\" column\n",
    "#     df[[\"lat\", \"lon\"]] = df[\"lat-lon\"].str.split(\",\", expand=True).astype(float)\n",
    "#     df.drop(columns=\"lat-lon\", inplace=True)\n",
    "\n",
    "#     # Get place name\n",
    "#     df[\"neighborhood\"] = df[\"place_with_parent_names\"].str.split(\"|\", expand=True)[3]\n",
    "#     df.drop(columns=\"place_with_parent_names\", inplace=True)\n",
    "    \n",
    "#     # Drop features with more than 50% missing values\n",
    "#     df.drop(columns=[\"floor\", \"expenses\"],inplace = True)\n",
    "    \n",
    "#     # Drop features with low and high cardinality\n",
    "#     df.drop(columns=[\"operation\", \"property_type\", \"currency\", \"properati_url\"],inplace = True)\n",
    "    \n",
    "#     # Drop leaky features that helps the model cheat\n",
    "#     df.drop(columns=['price_aprox_local_currency', 'price', 'price_per_m2', 'price_usd_per_m2'],inplace = True)\n",
    "    \n",
    "#     # Drop features with multi-collinearity\n",
    "#     df.drop(columns=['surface_total_in_m2', 'rooms'],inplace = True)\n",
    "    \n",
    "#     return df\n",
    "\n",
    "# frames = [wrangle(file) for file in files]\n",
    "\n",
    "# df = pd.concat(frames, ignore_index=True)\n",
    "# print(df.info())\n",
    "# df.head()"
   ]
  },
  {
   "cell_type": "markdown",
   "metadata": {},
   "source": [
    "# Select Training and Target Features \n"
   ]
  },
  {
   "cell_type": "code",
   "execution_count": 10,
   "metadata": {},
   "outputs": [],
   "source": [
    "# target = \"price_aprox_usd\"\n",
    "# X_train = df.drop(columns=[target])\n",
    "# y_train = df[target]"
   ]
  },
  {
   "cell_type": "markdown",
   "metadata": {},
   "source": [
    "### Calculate Y for Baseline Model\n"
   ]
  },
  {
   "cell_type": "code",
   "execution_count": 1,
   "metadata": {},
   "outputs": [],
   "source": [
    "# y_mean = y_train.mean()\n",
    "# print(\"Mean apt price:\", y_mean)\n",
    "# y_pred_baseline = [y_mean] * len(y_train)\n"
   ]
  },
  {
   "cell_type": "markdown",
   "metadata": {},
   "source": [
    "# Evaluate Baseline Model\n"
   ]
  },
  {
   "cell_type": "code",
   "execution_count": 12,
   "metadata": {},
   "outputs": [],
   "source": [
    "# print(\"Baseline MAE:\", mean_absolute_error(y_train, y_pred_baseline))"
   ]
  },
  {
   "cell_type": "markdown",
   "metadata": {},
   "source": [
    "# Make Model Pipeline\n"
   ]
  },
  {
   "cell_type": "code",
   "execution_count": 13,
   "metadata": {},
   "outputs": [],
   "source": [
    "# model = make_pipeline(\n",
    "#     OneHotEncoder(),\n",
    "#     SimpleImputer(),\n",
    "#     Ridge()\n",
    "# )\n",
    "# model.fit(X_train, y_train)\n"
   ]
  },
  {
   "cell_type": "markdown",
   "metadata": {},
   "source": [
    "### Predict Y for New Model\n"
   ]
  },
  {
   "cell_type": "code",
   "execution_count": 14,
   "metadata": {},
   "outputs": [],
   "source": [
    "# y_pred_training = model.predict(X_train)"
   ]
  },
  {
   "cell_type": "markdown",
   "metadata": {},
   "source": [
    "### Evaluate the New Model"
   ]
  },
  {
   "cell_type": "code",
   "execution_count": 15,
   "metadata": {},
   "outputs": [],
   "source": [
    "# print(\"Training MAE:\", mean_absolute_error(y_train, y_pred_training))\n"
   ]
  },
  {
   "cell_type": "markdown",
   "metadata": {},
   "source": [
    "# Make a series out of predicted Y\n"
   ]
  },
  {
   "cell_type": "code",
   "execution_count": 16,
   "metadata": {},
   "outputs": [],
   "source": [
    "# X_test = pd.read_csv(\"data/buenos-aires-test-features.csv\")\n",
    "# y_pred_test = pd.Series(model.predict(X_test))\n",
    "# y_pred_test.head()"
   ]
  },
  {
   "cell_type": "markdown",
   "metadata": {},
   "source": [
    "# Make a function to take input as dataframe"
   ]
  },
  {
   "cell_type": "code",
   "execution_count": 17,
   "metadata": {},
   "outputs": [],
   "source": [
    "# def make_prediction(area, lat, lon, neighborhood):\n",
    "#     data = {\n",
    "#         \"surface_covered_in_m2\":area,\n",
    "#         \"lat\":lat, \n",
    "#         \"lon\":lon,\n",
    "#         \"neighborhood\":neighborhood\n",
    "#     }\n",
    "#     df = pd.DataFrame(data, index=[0])\n",
    "#     prediction = round(model.predict(df)[0],2)\n",
    "#     return f\"Predicted apartment price: ${prediction}\""
   ]
  },
  {
   "cell_type": "code",
   "execution_count": 18,
   "metadata": {},
   "outputs": [],
   "source": [
    "# make_prediction(110, -34.60, -58.46, \"Villa Crespo\")"
   ]
  },
  {
   "cell_type": "markdown",
   "metadata": {},
   "source": [
    "# Create interaction slider widgets"
   ]
  },
  {
   "cell_type": "markdown",
   "metadata": {},
   "source": [
    "- Works with the user-defined prediction function\n",
    "- Each slider contains: min, max, default value and step size"
   ]
  },
  {
   "cell_type": "code",
   "execution_count": 19,
   "metadata": {},
   "outputs": [],
   "source": [
    "# interact(\n",
    "#     make_prediction,\n",
    "#     area=IntSlider(\n",
    "#         min=X_train[\"surface_covered_in_m2\"].min(),\n",
    "#         max=X_train[\"surface_covered_in_m2\"].max(),\n",
    "#         value=X_train[\"surface_covered_in_m2\"].mean(),\n",
    "#     ),\n",
    "#     lat=FloatSlider(\n",
    "#         min=X_train[\"lat\"].min(),\n",
    "#         max=X_train[\"lat\"].max(),\n",
    "#         step=0.01,\n",
    "#         value=X_train[\"lat\"].mean(),\n",
    "#     ),\n",
    "#     lon=FloatSlider(\n",
    "#         min=X_train[\"lon\"].min(),\n",
    "#         max=X_train[\"lon\"].max(),\n",
    "#         step=0.01,\n",
    "#         value=X_train[\"lon\"].mean(),\n",
    "#     ),\n",
    "#     neighborhood=Dropdown(options=sorted(X_train[\"neighborhood\"].unique())),\n",
    "# );"
   ]
  }
 ],
 "metadata": {
  "kernelspec": {
   "display_name": "Python 3.8.3 ('base')",
   "language": "python",
   "name": "python3"
  },
  "language_info": {
   "codemirror_mode": {
    "name": "ipython",
    "version": 3
   },
   "file_extension": ".py",
   "mimetype": "text/x-python",
   "name": "python",
   "nbconvert_exporter": "python",
   "pygments_lexer": "ipython3",
   "version": "3.8.3"
  },
  "orig_nbformat": 4,
  "vscode": {
   "interpreter": {
    "hash": "dc575bfddb5c8ca4bb6a4f4dcdd32abc104b5fa4177361381c432fff36ce3e46"
   }
  }
 },
 "nbformat": 4,
 "nbformat_minor": 2
}
